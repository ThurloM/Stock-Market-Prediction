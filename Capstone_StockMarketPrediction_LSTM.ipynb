{
 "cells": [
  {
   "cell_type": "markdown",
   "metadata": {
    "id": "bfo9HTtgAZq5"
   },
   "source": [
    "# **Load Important Libraries**"
   ]
  },
  {
   "cell_type": "code",
   "execution_count": 4,
   "metadata": {},
   "outputs": [
    {
     "name": "stdout",
     "output_type": "stream",
     "text": [
      "Requirement already satisfied: yfinance in c:\\users\\thurlo\\anaconda3\\lib\\site-packages (0.2.44)\n",
      "Requirement already satisfied: multitasking>=0.0.7 in c:\\users\\thurlo\\anaconda3\\lib\\site-packages (from yfinance) (0.0.11)\n",
      "Requirement already satisfied: numpy>=1.16.5 in c:\\users\\thurlo\\anaconda3\\lib\\site-packages (from yfinance) (1.22.4)\n",
      "Requirement already satisfied: beautifulsoup4>=4.11.1 in c:\\users\\thurlo\\anaconda3\\lib\\site-packages (from yfinance) (4.11.1)\n",
      "Requirement already satisfied: frozendict>=2.3.4 in c:\\users\\thurlo\\anaconda3\\lib\\site-packages (from yfinance) (2.4.6)\n",
      "Requirement already satisfied: pytz>=2022.5 in c:\\users\\thurlo\\anaconda3\\lib\\site-packages (from yfinance) (2024.2)\n",
      "Requirement already satisfied: pandas>=1.3.0 in c:\\users\\thurlo\\anaconda3\\lib\\site-packages (from yfinance) (1.4.2)\n",
      "Requirement already satisfied: html5lib>=1.1 in c:\\users\\thurlo\\anaconda3\\lib\\site-packages (from yfinance) (1.1)\n",
      "Requirement already satisfied: requests>=2.31 in c:\\users\\thurlo\\anaconda3\\lib\\site-packages (from yfinance) (2.32.3)\n",
      "Requirement already satisfied: platformdirs>=2.0.0 in c:\\users\\thurlo\\anaconda3\\lib\\site-packages (from yfinance) (4.3.6)\n",
      "Requirement already satisfied: lxml>=4.9.1 in c:\\users\\thurlo\\anaconda3\\lib\\site-packages (from yfinance) (5.3.0)\n",
      "Requirement already satisfied: peewee>=3.16.2 in c:\\users\\thurlo\\anaconda3\\lib\\site-packages (from yfinance) (3.17.6)\n",
      "Requirement already satisfied: soupsieve>1.2 in c:\\users\\thurlo\\anaconda3\\lib\\site-packages (from beautifulsoup4>=4.11.1->yfinance) (2.3.1)\n",
      "Requirement already satisfied: six>=1.9 in c:\\users\\thurlo\\anaconda3\\lib\\site-packages (from html5lib>=1.1->yfinance) (1.16.0)\n",
      "Requirement already satisfied: webencodings in c:\\users\\thurlo\\anaconda3\\lib\\site-packages (from html5lib>=1.1->yfinance) (0.5.1)\n",
      "Requirement already satisfied: python-dateutil>=2.8.1 in c:\\users\\thurlo\\anaconda3\\lib\\site-packages (from pandas>=1.3.0->yfinance) (2.8.2)\n",
      "Requirement already satisfied: certifi>=2017.4.17 in c:\\users\\thurlo\\anaconda3\\lib\\site-packages (from requests>=2.31->yfinance) (2021.10.8)\n",
      "Requirement already satisfied: urllib3<3,>=1.21.1 in c:\\users\\thurlo\\anaconda3\\lib\\site-packages (from requests>=2.31->yfinance) (1.26.9)\n",
      "Requirement already satisfied: charset-normalizer<4,>=2 in c:\\users\\thurlo\\anaconda3\\lib\\site-packages (from requests>=2.31->yfinance) (2.0.4)\n",
      "Requirement already satisfied: idna<4,>=2.5 in c:\\users\\thurlo\\anaconda3\\lib\\site-packages (from requests>=2.31->yfinance) (3.3)\n"
     ]
    }
   ],
   "source": [
    "!pip install yfinance"
   ]
  },
  {
   "cell_type": "code",
   "execution_count": 14,
   "metadata": {},
   "outputs": [
    {
     "name": "stdout",
     "output_type": "stream",
     "text": [
      "Requirement already satisfied: keras in c:\\users\\thurlo\\anaconda3\\lib\\site-packages (3.5.0)\n",
      "Requirement already satisfied: tensorflow in c:\\users\\thurlo\\anaconda3\\lib\\site-packages (2.17.0)\n",
      "Requirement already satisfied: absl-py in c:\\users\\thurlo\\anaconda3\\lib\\site-packages (from keras) (2.1.0)\n",
      "Requirement already satisfied: rich in c:\\users\\thurlo\\anaconda3\\lib\\site-packages (from keras) (13.8.0)\n",
      "Requirement already satisfied: packaging in c:\\users\\thurlo\\anaconda3\\lib\\site-packages (from keras) (21.3)\n",
      "Requirement already satisfied: numpy in c:\\users\\thurlo\\anaconda3\\lib\\site-packages (from keras) (1.26.4)\n",
      "Requirement already satisfied: optree in c:\\users\\thurlo\\anaconda3\\lib\\site-packages (from keras) (0.12.1)\n",
      "Requirement already satisfied: ml-dtypes in c:\\users\\thurlo\\anaconda3\\lib\\site-packages (from keras) (0.4.0)\n",
      "Requirement already satisfied: namex in c:\\users\\thurlo\\anaconda3\\lib\\site-packages (from keras) (0.0.8)\n",
      "Requirement already satisfied: h5py in c:\\users\\thurlo\\anaconda3\\lib\\site-packages (from keras) (3.11.0)\n",
      "Requirement already satisfied: tensorflow-intel==2.17.0 in c:\\users\\thurlo\\anaconda3\\lib\\site-packages (from tensorflow) (2.17.0)\n",
      "Requirement already satisfied: libclang>=13.0.0 in c:\\users\\thurlo\\anaconda3\\lib\\site-packages (from tensorflow-intel==2.17.0->tensorflow) (18.1.1)\n",
      "Requirement already satisfied: tensorboard<2.18,>=2.17 in c:\\users\\thurlo\\anaconda3\\lib\\site-packages (from tensorflow-intel==2.17.0->tensorflow) (2.17.1)\n",
      "Requirement already satisfied: gast!=0.5.0,!=0.5.1,!=0.5.2,>=0.2.1 in c:\\users\\thurlo\\anaconda3\\lib\\site-packages (from tensorflow-intel==2.17.0->tensorflow) (0.6.0)\n",
      "Requirement already satisfied: flatbuffers>=24.3.25 in c:\\users\\thurlo\\anaconda3\\lib\\site-packages (from tensorflow-intel==2.17.0->tensorflow) (24.3.25)\n",
      "Requirement already satisfied: six>=1.12.0 in c:\\users\\thurlo\\anaconda3\\lib\\site-packages (from tensorflow-intel==2.17.0->tensorflow) (1.16.0)\n",
      "Requirement already satisfied: google-pasta>=0.1.1 in c:\\users\\thurlo\\anaconda3\\lib\\site-packages (from tensorflow-intel==2.17.0->tensorflow) (0.2.0)\n",
      "Requirement already satisfied: protobuf!=4.21.0,!=4.21.1,!=4.21.2,!=4.21.3,!=4.21.4,!=4.21.5,<5.0.0dev,>=3.20.3 in c:\\users\\thurlo\\anaconda3\\lib\\site-packages (from tensorflow-intel==2.17.0->tensorflow) (4.25.4)\n",
      "Requirement already satisfied: astunparse>=1.6.0 in c:\\users\\thurlo\\anaconda3\\lib\\site-packages (from tensorflow-intel==2.17.0->tensorflow) (1.6.3)\n",
      "Requirement already satisfied: grpcio<2.0,>=1.24.3 in c:\\users\\thurlo\\anaconda3\\lib\\site-packages (from tensorflow-intel==2.17.0->tensorflow) (1.66.1)\n",
      "Requirement already satisfied: opt-einsum>=2.3.2 in c:\\users\\thurlo\\anaconda3\\lib\\site-packages (from tensorflow-intel==2.17.0->tensorflow) (3.3.0)\n",
      "Requirement already satisfied: typing-extensions>=3.6.6 in c:\\users\\thurlo\\anaconda3\\lib\\site-packages (from tensorflow-intel==2.17.0->tensorflow) (4.12.2)\n",
      "Requirement already satisfied: setuptools in c:\\users\\thurlo\\anaconda3\\lib\\site-packages (from tensorflow-intel==2.17.0->tensorflow) (61.2.0)\n",
      "Requirement already satisfied: requests<3,>=2.21.0 in c:\\users\\thurlo\\anaconda3\\lib\\site-packages (from tensorflow-intel==2.17.0->tensorflow) (2.32.3)\n",
      "Requirement already satisfied: wrapt>=1.11.0 in c:\\users\\thurlo\\anaconda3\\lib\\site-packages (from tensorflow-intel==2.17.0->tensorflow) (1.12.1)\n",
      "Requirement already satisfied: termcolor>=1.1.0 in c:\\users\\thurlo\\anaconda3\\lib\\site-packages (from tensorflow-intel==2.17.0->tensorflow) (2.4.0)\n",
      "Requirement already satisfied: tensorflow-io-gcs-filesystem>=0.23.1 in c:\\users\\thurlo\\anaconda3\\lib\\site-packages (from tensorflow-intel==2.17.0->tensorflow) (0.31.0)\n",
      "Requirement already satisfied: wheel<1.0,>=0.23.0 in c:\\users\\thurlo\\anaconda3\\lib\\site-packages (from astunparse>=1.6.0->tensorflow-intel==2.17.0->tensorflow) (0.37.1)\n",
      "Requirement already satisfied: certifi>=2017.4.17 in c:\\users\\thurlo\\anaconda3\\lib\\site-packages (from requests<3,>=2.21.0->tensorflow-intel==2.17.0->tensorflow) (2021.10.8)\n",
      "Requirement already satisfied: charset-normalizer<4,>=2 in c:\\users\\thurlo\\anaconda3\\lib\\site-packages (from requests<3,>=2.21.0->tensorflow-intel==2.17.0->tensorflow) (2.0.4)\n",
      "Requirement already satisfied: urllib3<3,>=1.21.1 in c:\\users\\thurlo\\anaconda3\\lib\\site-packages (from requests<3,>=2.21.0->tensorflow-intel==2.17.0->tensorflow) (1.26.9)\n",
      "Requirement already satisfied: idna<4,>=2.5 in c:\\users\\thurlo\\anaconda3\\lib\\site-packages (from requests<3,>=2.21.0->tensorflow-intel==2.17.0->tensorflow) (3.3)\n",
      "Requirement already satisfied: markdown>=2.6.8 in c:\\users\\thurlo\\anaconda3\\lib\\site-packages (from tensorboard<2.18,>=2.17->tensorflow-intel==2.17.0->tensorflow) (3.3.4)\n",
      "Requirement already satisfied: werkzeug>=1.0.1 in c:\\users\\thurlo\\anaconda3\\lib\\site-packages (from tensorboard<2.18,>=2.17->tensorflow-intel==2.17.0->tensorflow) (2.0.3)\n",
      "Requirement already satisfied: tensorboard-data-server<0.8.0,>=0.7.0 in c:\\users\\thurlo\\anaconda3\\lib\\site-packages (from tensorboard<2.18,>=2.17->tensorflow-intel==2.17.0->tensorflow) (0.7.2)\n",
      "Requirement already satisfied: pyparsing!=3.0.5,>=2.0.2 in c:\\users\\thurlo\\anaconda3\\lib\\site-packages (from packaging->keras) (3.0.4)\n",
      "Requirement already satisfied: markdown-it-py>=2.2.0 in c:\\users\\thurlo\\anaconda3\\lib\\site-packages (from rich->keras) (3.0.0)\n",
      "Requirement already satisfied: pygments<3.0.0,>=2.13.0 in c:\\users\\thurlo\\anaconda3\\lib\\site-packages (from rich->keras) (2.18.0)\n",
      "Requirement already satisfied: mdurl~=0.1 in c:\\users\\thurlo\\anaconda3\\lib\\site-packages (from markdown-it-py>=2.2.0->rich->keras) (0.1.2)\n",
      "Note: you may need to restart the kernel to use updated packages.\n"
     ]
    }
   ],
   "source": [
    "pip install keras tensorflow"
   ]
  },
  {
   "cell_type": "code",
   "execution_count": 1,
   "metadata": {
    "id": "Fgp36wIUAV8o"
   },
   "outputs": [
    {
     "name": "stderr",
     "output_type": "stream",
     "text": [
      "C:\\Users\\Thurlo\\anaconda3\\lib\\site-packages\\scipy\\__init__.py:146: UserWarning: A NumPy version >=1.16.5 and <1.23.0 is required for this version of SciPy (detected version 1.26.4\n",
      "  warnings.warn(f\"A NumPy version >={np_minversion} and <{np_maxversion}\"\n"
     ]
    }
   ],
   "source": [
    "import numpy as np\n",
    "import pandas as pd\n",
    "import matplotlib.pyplot as plt\n",
    "\n",
    "# Data collection\n",
    "import yfinance as yf\n",
    "\n",
    "#Data Scaling\n",
    "from sklearn.preprocessing import MinMaxScaler\n",
    "\n",
    "#LSTM\n",
    "from keras.models import Sequential\n",
    "from keras.layers import Dense, LSTM, Dropout"
   ]
  },
  {
   "cell_type": "markdown",
   "metadata": {
    "id": "RGRZXcTKAfCk"
   },
   "source": [
    "# **Load the data**"
   ]
  },
  {
   "cell_type": "code",
   "execution_count": 29,
   "metadata": {
    "colab": {
     "base_uri": "https://localhost:8080/",
     "height": 646
    },
    "id": "JRwflCxSAi0k",
    "outputId": "411655eb-11dc-44cb-ac87-43c93c73adc9"
   },
   "outputs": [
    {
     "data": {
      "text/html": [
       "<div>\n",
       "<style scoped>\n",
       "    .dataframe tbody tr th:only-of-type {\n",
       "        vertical-align: middle;\n",
       "    }\n",
       "\n",
       "    .dataframe tbody tr th {\n",
       "        vertical-align: top;\n",
       "    }\n",
       "\n",
       "    .dataframe thead th {\n",
       "        text-align: right;\n",
       "    }\n",
       "</style>\n",
       "<table border=\"1\" class=\"dataframe\">\n",
       "  <thead>\n",
       "    <tr style=\"text-align: right;\">\n",
       "      <th></th>\n",
       "      <th>Date</th>\n",
       "      <th>Open</th>\n",
       "      <th>High</th>\n",
       "      <th>Low</th>\n",
       "      <th>Close</th>\n",
       "      <th>Volume</th>\n",
       "    </tr>\n",
       "  </thead>\n",
       "  <tbody>\n",
       "    <tr>\n",
       "      <th>2000</th>\n",
       "      <td>2005-04-28 00:00:00-04:00</td>\n",
       "      <td>1.583000</td>\n",
       "      <td>1.646000</td>\n",
       "      <td>1.581500</td>\n",
       "      <td>1.626000</td>\n",
       "      <td>289456000</td>\n",
       "    </tr>\n",
       "    <tr>\n",
       "      <th>2001</th>\n",
       "      <td>2005-04-29 00:00:00-04:00</td>\n",
       "      <td>1.643000</td>\n",
       "      <td>1.644500</td>\n",
       "      <td>1.576000</td>\n",
       "      <td>1.618000</td>\n",
       "      <td>210470000</td>\n",
       "    </tr>\n",
       "    <tr>\n",
       "      <th>2002</th>\n",
       "      <td>2005-05-02 00:00:00-04:00</td>\n",
       "      <td>1.615000</td>\n",
       "      <td>1.664000</td>\n",
       "      <td>1.605000</td>\n",
       "      <td>1.655000</td>\n",
       "      <td>181960000</td>\n",
       "    </tr>\n",
       "    <tr>\n",
       "      <th>2003</th>\n",
       "      <td>2005-05-03 00:00:00-04:00</td>\n",
       "      <td>1.647000</td>\n",
       "      <td>1.678000</td>\n",
       "      <td>1.644500</td>\n",
       "      <td>1.660500</td>\n",
       "      <td>135558000</td>\n",
       "    </tr>\n",
       "    <tr>\n",
       "      <th>2004</th>\n",
       "      <td>2005-05-04 00:00:00-04:00</td>\n",
       "      <td>1.667500</td>\n",
       "      <td>1.706000</td>\n",
       "      <td>1.663500</td>\n",
       "      <td>1.698000</td>\n",
       "      <td>155132000</td>\n",
       "    </tr>\n",
       "    <tr>\n",
       "      <th>...</th>\n",
       "      <td>...</td>\n",
       "      <td>...</td>\n",
       "      <td>...</td>\n",
       "      <td>...</td>\n",
       "      <td>...</td>\n",
       "      <td>...</td>\n",
       "    </tr>\n",
       "    <tr>\n",
       "      <th>6893</th>\n",
       "      <td>2024-10-07 00:00:00-04:00</td>\n",
       "      <td>182.949997</td>\n",
       "      <td>183.600006</td>\n",
       "      <td>180.250000</td>\n",
       "      <td>180.800003</td>\n",
       "      <td>42364200</td>\n",
       "    </tr>\n",
       "    <tr>\n",
       "      <th>6894</th>\n",
       "      <td>2024-10-08 00:00:00-04:00</td>\n",
       "      <td>181.919998</td>\n",
       "      <td>183.089996</td>\n",
       "      <td>180.919998</td>\n",
       "      <td>182.720001</td>\n",
       "      <td>26372100</td>\n",
       "    </tr>\n",
       "    <tr>\n",
       "      <th>6895</th>\n",
       "      <td>2024-10-09 00:00:00-04:00</td>\n",
       "      <td>182.820007</td>\n",
       "      <td>185.850006</td>\n",
       "      <td>182.050003</td>\n",
       "      <td>185.169998</td>\n",
       "      <td>26343100</td>\n",
       "    </tr>\n",
       "    <tr>\n",
       "      <th>6896</th>\n",
       "      <td>2024-10-10 00:00:00-04:00</td>\n",
       "      <td>187.130005</td>\n",
       "      <td>188.130005</td>\n",
       "      <td>185.830002</td>\n",
       "      <td>186.649994</td>\n",
       "      <td>27785000</td>\n",
       "    </tr>\n",
       "    <tr>\n",
       "      <th>6897</th>\n",
       "      <td>2024-10-11 00:00:00-04:00</td>\n",
       "      <td>186.630005</td>\n",
       "      <td>189.929993</td>\n",
       "      <td>186.300003</td>\n",
       "      <td>188.820007</td>\n",
       "      <td>25658900</td>\n",
       "    </tr>\n",
       "  </tbody>\n",
       "</table>\n",
       "<p>4898 rows × 6 columns</p>\n",
       "</div>"
      ],
      "text/plain": [
       "                           Date        Open        High         Low  \\\n",
       "2000  2005-04-28 00:00:00-04:00    1.583000    1.646000    1.581500   \n",
       "2001  2005-04-29 00:00:00-04:00    1.643000    1.644500    1.576000   \n",
       "2002  2005-05-02 00:00:00-04:00    1.615000    1.664000    1.605000   \n",
       "2003  2005-05-03 00:00:00-04:00    1.647000    1.678000    1.644500   \n",
       "2004  2005-05-04 00:00:00-04:00    1.667500    1.706000    1.663500   \n",
       "...                         ...         ...         ...         ...   \n",
       "6893  2024-10-07 00:00:00-04:00  182.949997  183.600006  180.250000   \n",
       "6894  2024-10-08 00:00:00-04:00  181.919998  183.089996  180.919998   \n",
       "6895  2024-10-09 00:00:00-04:00  182.820007  185.850006  182.050003   \n",
       "6896  2024-10-10 00:00:00-04:00  187.130005  188.130005  185.830002   \n",
       "6897  2024-10-11 00:00:00-04:00  186.630005  189.929993  186.300003   \n",
       "\n",
       "           Close     Volume  \n",
       "2000    1.626000  289456000  \n",
       "2001    1.618000  210470000  \n",
       "2002    1.655000  181960000  \n",
       "2003    1.660500  135558000  \n",
       "2004    1.698000  155132000  \n",
       "...          ...        ...  \n",
       "6893  180.800003   42364200  \n",
       "6894  182.720001   26372100  \n",
       "6895  185.169998   26343100  \n",
       "6896  186.649994   27785000  \n",
       "6897  188.820007   25658900  \n",
       "\n",
       "[4898 rows x 6 columns]"
      ]
     },
     "execution_count": 29,
     "metadata": {},
     "output_type": "execute_result"
    }
   ],
   "source": [
    "#Load data (Amazon)\n",
    "\n",
    "df = pd.read_csv('amazon_stock_data.csv')\n",
    "df = df.iloc[2000: df.shape[0]]\n",
    "df"
   ]
  },
  {
   "cell_type": "markdown",
   "metadata": {
    "id": "hbdqAnXXMBHX"
   },
   "source": [
    "# Splitting the data"
   ]
  },
  {
   "cell_type": "code",
   "execution_count": 30,
   "metadata": {
    "colab": {
     "base_uri": "https://localhost:8080/"
    },
    "id": "cpJuVF3vWN2x",
    "outputId": "69598b5a-0cf1-4a3c-ecef-ee4f23fe988a"
   },
   "outputs": [
    {
     "data": {
      "text/plain": [
       "4409"
      ]
     },
     "execution_count": 30,
     "metadata": {},
     "output_type": "execute_result"
    }
   ],
   "source": [
    "# Create a new dataframe with only the 'Close column\n",
    "close = df.filter(['Close'])\n",
    "# Convert the dataframe to a numpy array\n",
    "dataset = close.values\n",
    "# Get the number of rows to train the model on\n",
    "training_len = int(np.ceil( len(dataset) * .9 ))\n",
    "\n",
    "training_len"
   ]
  },
  {
   "cell_type": "code",
   "execution_count": 31,
   "metadata": {
    "colab": {
     "base_uri": "https://localhost:8080/"
    },
    "id": "O4MIiM5iZ3JK",
    "outputId": "8d331712-42c0-46ec-b36d-627a51bed132"
   },
   "outputs": [
    {
     "data": {
      "text/plain": [
       "array([[0.00162308],\n",
       "       [0.00158282],\n",
       "       [0.00176903],\n",
       "       ...,\n",
       "       [0.92536355],\n",
       "       [0.93281207],\n",
       "       [0.94373332]])"
      ]
     },
     "execution_count": 31,
     "metadata": {},
     "output_type": "execute_result"
    }
   ],
   "source": [
    "# Using Min Max Scalar to scale the data\n",
    "sc = MinMaxScaler(feature_range=(0,1))\n",
    "\n",
    "#Scaling the close (closing price) data\n",
    "sc_close = sc.fit_transform(close)\n",
    "sc_close"
   ]
  },
  {
   "cell_type": "code",
   "execution_count": 32,
   "metadata": {
    "colab": {
     "base_uri": "https://localhost:8080/"
    },
    "id": "uIR3_X7yfug0",
    "outputId": "727baa9f-7eef-4ba4-d91a-6bc14c13e57f"
   },
   "outputs": [
    {
     "name": "stdout",
     "output_type": "stream",
     "text": [
      "[array([0.00162308, 0.00158282, 0.00176903, 0.00179671, 0.00198544,\n",
      "       0.00198544, 0.00212636, 0.00215656, 0.00205338, 0.00195021,\n",
      "       0.00195776, 0.00197034, 0.00213139, 0.0021792 , 0.00233019,\n",
      "       0.00239561, 0.00237297, 0.00241826, 0.00238303, 0.00231006,\n",
      "       0.00236038, 0.00237297, 0.00237548, 0.00262461, 0.00260196,\n",
      "       0.00239561, 0.00244091, 0.00233522, 0.00220437, 0.00229747,\n",
      "       0.00223456, 0.00221443, 0.00225721, 0.00230754, 0.0023931 ,\n",
      "       0.00232515, 0.00242078, 0.00234277, 0.00230251, 0.00235535,\n",
      "       0.00225218, 0.00212133, 0.00192253, 0.00183194, 0.00176651,\n",
      "       0.00172122, 0.00201564, 0.0020106 , 0.00198544, 0.00218172,\n",
      "       0.00239561, 0.00257679, 0.00262712, 0.00279824, 0.00278817,\n",
      "       0.00279824, 0.00304484, 0.00304484, 0.00298948, 0.00298948])]\n",
      "[0.002989483871373661]\n",
      "[array([0.00162308, 0.00158282, 0.00176903, 0.00179671, 0.00198544,\n",
      "       0.00198544, 0.00212636, 0.00215656, 0.00205338, 0.00195021,\n",
      "       0.00195776, 0.00197034, 0.00213139, 0.0021792 , 0.00233019,\n",
      "       0.00239561, 0.00237297, 0.00241826, 0.00238303, 0.00231006,\n",
      "       0.00236038, 0.00237297, 0.00237548, 0.00262461, 0.00260196,\n",
      "       0.00239561, 0.00244091, 0.00233522, 0.00220437, 0.00229747,\n",
      "       0.00223456, 0.00221443, 0.00225721, 0.00230754, 0.0023931 ,\n",
      "       0.00232515, 0.00242078, 0.00234277, 0.00230251, 0.00235535,\n",
      "       0.00225218, 0.00212133, 0.00192253, 0.00183194, 0.00176651,\n",
      "       0.00172122, 0.00201564, 0.0020106 , 0.00198544, 0.00218172,\n",
      "       0.00239561, 0.00257679, 0.00262712, 0.00279824, 0.00278817,\n",
      "       0.00279824, 0.00304484, 0.00304484, 0.00298948, 0.00298948]), array([0.00158282, 0.00176903, 0.00179671, 0.00198544, 0.00198544,\n",
      "       0.00212636, 0.00215656, 0.00205338, 0.00195021, 0.00195776,\n",
      "       0.00197034, 0.00213139, 0.0021792 , 0.00233019, 0.00239561,\n",
      "       0.00237297, 0.00241826, 0.00238303, 0.00231006, 0.00236038,\n",
      "       0.00237297, 0.00237548, 0.00262461, 0.00260196, 0.00239561,\n",
      "       0.00244091, 0.00233522, 0.00220437, 0.00229747, 0.00223456,\n",
      "       0.00221443, 0.00225721, 0.00230754, 0.0023931 , 0.00232515,\n",
      "       0.00242078, 0.00234277, 0.00230251, 0.00235535, 0.00225218,\n",
      "       0.00212133, 0.00192253, 0.00183194, 0.00176651, 0.00172122,\n",
      "       0.00201564, 0.0020106 , 0.00198544, 0.00218172, 0.00239561,\n",
      "       0.00257679, 0.00262712, 0.00279824, 0.00278817, 0.00279824,\n",
      "       0.00304484, 0.00304484, 0.00298948, 0.00298948, 0.00298948])]\n",
      "[0.002989483871373661, 0.0029366390883206325]\n"
     ]
    }
   ],
   "source": [
    "# Create the training data set\n",
    "# Create the scaled training data set\n",
    "train_data = sc_close[0:int(training_len), :]\n",
    "\n",
    "# creating empty sets\n",
    "x_train = []\n",
    "y_train = []\n",
    "\n",
    "# Split the data into x_train and y_train data sets\n",
    "for i in range(60, len(train_data)):\n",
    "    x_train.append(train_data[i-60:i, 0])\n",
    "    y_train.append(train_data[i, 0])\n",
    "    if i<= 61:\n",
    "        print(x_train)\n",
    "        print(y_train)\n"
   ]
  },
  {
   "cell_type": "code",
   "execution_count": 33,
   "metadata": {
    "colab": {
     "base_uri": "https://localhost:8080/"
    },
    "id": "Tgl9Ql34bXD9",
    "outputId": "b4e3c2ca-ee9f-4f1b-8c1b-3550b632b988"
   },
   "outputs": [
    {
     "data": {
      "text/plain": [
       "array([[0.00162308, 0.00158282, 0.00176903, ..., 0.00304484, 0.00298948,\n",
       "        0.00298948],\n",
       "       [0.00158282, 0.00176903, 0.00179671, ..., 0.00298948, 0.00298948,\n",
       "        0.00298948],\n",
       "       [0.00176903, 0.00179671, 0.00198544, ..., 0.00298948, 0.00298948,\n",
       "        0.00293664],\n",
       "       ...,\n",
       "       [0.6956162 , 0.71096626, 0.70205818, ..., 0.59646999, 0.60039557,\n",
       "        0.57553356],\n",
       "       [0.71096626, 0.70205818, 0.69506259, ..., 0.60039557, 0.57553356,\n",
       "        0.55187937],\n",
       "       [0.70205818, 0.69506259, 0.68711075, ..., 0.57553356, 0.55187937,\n",
       "        0.51388174]])"
      ]
     },
     "execution_count": 33,
     "metadata": {},
     "output_type": "execute_result"
    }
   ],
   "source": [
    "# Convert the x_train and y_train to numpy arrays\n",
    "x_train, y_train = np.array(x_train), np.array(y_train)\n",
    "x_train"
   ]
  },
  {
   "cell_type": "code",
   "execution_count": 34,
   "metadata": {
    "colab": {
     "base_uri": "https://localhost:8080/"
    },
    "id": "4xvkrVGe8dB3",
    "outputId": "cece99fd-bc72-410a-bb71-b04848ef621f"
   },
   "outputs": [
    {
     "data": {
      "text/plain": [
       "(4349, 60, 1)"
      ]
     },
     "execution_count": 34,
     "metadata": {},
     "output_type": "execute_result"
    }
   ],
   "source": [
    "# Reshape the data\n",
    "x_train = np.reshape(x_train, (x_train.shape[0], x_train.shape[1], 1))\n",
    "x_train.shape"
   ]
  },
  {
   "cell_type": "markdown",
   "metadata": {
    "id": "gEGpccaLe4cN"
   },
   "source": [
    "# Model 1 : LSTM\n"
   ]
  },
  {
   "cell_type": "code",
   "execution_count": 35,
   "metadata": {
    "id": "5waVjfxANYyQ"
   },
   "outputs": [],
   "source": [
    "#early stopping\n",
    "from tensorflow.keras.callbacks import EarlyStopping"
   ]
  },
  {
   "cell_type": "code",
   "execution_count": 36,
   "metadata": {
    "colab": {
     "base_uri": "https://localhost:8080/"
    },
    "id": "48UWlAaBelzu",
    "outputId": "be98befc-e537-4dd0-ec5b-d9034d932b24",
    "scrolled": false
   },
   "outputs": [
    {
     "name": "stderr",
     "output_type": "stream",
     "text": [
      "C:\\Users\\Thurlo\\anaconda3\\lib\\site-packages\\keras\\src\\layers\\rnn\\rnn.py:204: UserWarning: Do not pass an `input_shape`/`input_dim` argument to a layer. When using Sequential models, prefer using an `Input(shape)` object as the first layer in the model instead.\n",
      "  super().__init__(**kwargs)\n"
     ]
    },
    {
     "name": "stdout",
     "output_type": "stream",
     "text": [
      "Epoch 1/20\n",
      "\u001b[1m136/136\u001b[0m \u001b[32m━━━━━━━━━━━━━━━━━━━━\u001b[0m\u001b[37m\u001b[0m \u001b[1m11s\u001b[0m 45ms/step - loss: 0.0092\n",
      "Epoch 2/20\n",
      "\u001b[1m136/136\u001b[0m \u001b[32m━━━━━━━━━━━━━━━━━━━━\u001b[0m\u001b[37m\u001b[0m \u001b[1m6s\u001b[0m 46ms/step - loss: 3.3229e-04\n",
      "Epoch 3/20\n",
      "\u001b[1m136/136\u001b[0m \u001b[32m━━━━━━━━━━━━━━━━━━━━\u001b[0m\u001b[37m\u001b[0m \u001b[1m6s\u001b[0m 44ms/step - loss: 2.8802e-04\n",
      "Epoch 4/20\n",
      "\u001b[1m136/136\u001b[0m \u001b[32m━━━━━━━━━━━━━━━━━━━━\u001b[0m\u001b[37m\u001b[0m \u001b[1m6s\u001b[0m 45ms/step - loss: 2.5698e-04\n",
      "Epoch 5/20\n",
      "\u001b[1m136/136\u001b[0m \u001b[32m━━━━━━━━━━━━━━━━━━━━\u001b[0m\u001b[37m\u001b[0m \u001b[1m6s\u001b[0m 45ms/step - loss: 2.1074e-04\n",
      "Epoch 6/20\n",
      "\u001b[1m136/136\u001b[0m \u001b[32m━━━━━━━━━━━━━━━━━━━━\u001b[0m\u001b[37m\u001b[0m \u001b[1m6s\u001b[0m 44ms/step - loss: 1.9411e-04\n",
      "Epoch 7/20\n",
      "\u001b[1m136/136\u001b[0m \u001b[32m━━━━━━━━━━━━━━━━━━━━\u001b[0m\u001b[37m\u001b[0m \u001b[1m6s\u001b[0m 46ms/step - loss: 1.8229e-04\n",
      "Epoch 8/20\n",
      "\u001b[1m136/136\u001b[0m \u001b[32m━━━━━━━━━━━━━━━━━━━━\u001b[0m\u001b[37m\u001b[0m \u001b[1m7s\u001b[0m 49ms/step - loss: 1.8167e-04\n",
      "Epoch 9/20\n",
      "\u001b[1m136/136\u001b[0m \u001b[32m━━━━━━━━━━━━━━━━━━━━\u001b[0m\u001b[37m\u001b[0m \u001b[1m5s\u001b[0m 39ms/step - loss: 1.9304e-04\n",
      "Epoch 10/20\n",
      "\u001b[1m136/136\u001b[0m \u001b[32m━━━━━━━━━━━━━━━━━━━━\u001b[0m\u001b[37m\u001b[0m \u001b[1m5s\u001b[0m 37ms/step - loss: 1.7765e-04\n",
      "Epoch 11/20\n",
      "\u001b[1m136/136\u001b[0m \u001b[32m━━━━━━━━━━━━━━━━━━━━\u001b[0m\u001b[37m\u001b[0m \u001b[1m6s\u001b[0m 43ms/step - loss: 1.7663e-04\n",
      "Epoch 12/20\n",
      "\u001b[1m136/136\u001b[0m \u001b[32m━━━━━━━━━━━━━━━━━━━━\u001b[0m\u001b[37m\u001b[0m \u001b[1m6s\u001b[0m 46ms/step - loss: 1.4178e-04\n",
      "Epoch 13/20\n",
      "\u001b[1m136/136\u001b[0m \u001b[32m━━━━━━━━━━━━━━━━━━━━\u001b[0m\u001b[37m\u001b[0m \u001b[1m6s\u001b[0m 45ms/step - loss: 1.4021e-04\n",
      "Epoch 14/20\n",
      "\u001b[1m136/136\u001b[0m \u001b[32m━━━━━━━━━━━━━━━━━━━━\u001b[0m\u001b[37m\u001b[0m \u001b[1m6s\u001b[0m 46ms/step - loss: 1.0940e-04\n",
      "Epoch 15/20\n",
      "\u001b[1m136/136\u001b[0m \u001b[32m━━━━━━━━━━━━━━━━━━━━\u001b[0m\u001b[37m\u001b[0m \u001b[1m6s\u001b[0m 46ms/step - loss: 1.4750e-04\n",
      "Epoch 16/20\n",
      "\u001b[1m136/136\u001b[0m \u001b[32m━━━━━━━━━━━━━━━━━━━━\u001b[0m\u001b[37m\u001b[0m \u001b[1m11s\u001b[0m 50ms/step - loss: 1.0037e-04\n",
      "Epoch 17/20\n",
      "\u001b[1m136/136\u001b[0m \u001b[32m━━━━━━━━━━━━━━━━━━━━\u001b[0m\u001b[37m\u001b[0m \u001b[1m6s\u001b[0m 45ms/step - loss: 1.2390e-04\n",
      "Epoch 18/20\n",
      "\u001b[1m136/136\u001b[0m \u001b[32m━━━━━━━━━━━━━━━━━━━━\u001b[0m\u001b[37m\u001b[0m \u001b[1m6s\u001b[0m 46ms/step - loss: 1.2667e-04\n",
      "Epoch 19/20\n",
      "\u001b[1m136/136\u001b[0m \u001b[32m━━━━━━━━━━━━━━━━━━━━\u001b[0m\u001b[37m\u001b[0m \u001b[1m6s\u001b[0m 46ms/step - loss: 1.1710e-04\n",
      "Epoch 20/20\n",
      "\u001b[1m136/136\u001b[0m \u001b[32m━━━━━━━━━━━━━━━━━━━━\u001b[0m\u001b[37m\u001b[0m \u001b[1m6s\u001b[0m 45ms/step - loss: 1.0143e-04\n"
     ]
    },
    {
     "data": {
      "text/plain": [
       "<keras.src.callbacks.history.History at 0x198c19ccf40>"
      ]
     },
     "execution_count": 36,
     "metadata": {},
     "output_type": "execute_result"
    }
   ],
   "source": [
    "# LSTM\n",
    "\n",
    "# Build the LSTM model\n",
    "model = Sequential()\n",
    "\n",
    "model.add(LSTM(64,return_sequences=True, input_shape= (x_train.shape[1], 1)))\n",
    "#model.add(Dropout(0.2))\n",
    "\n",
    "\n",
    "model.add(LSTM(128,return_sequences=False))\n",
    "#model.add(Dropout(0.3))\n",
    "\n",
    "model.add(Dense(64))\n",
    "#model.add(Dropout(0.4))\n",
    "\n",
    "model.add(Dense(1))\n",
    "\n",
    "# Compile the model\n",
    "model.compile(optimizer='adam', loss='mean_squared_error')\n",
    "\n",
    "\n",
    "#Early stopping\n",
    "early_stopping = EarlyStopping(monitor='loss', patience=5)\n",
    "\n",
    "# Train the model\n",
    "model.fit(x_train, y_train, batch_size=32, epochs=20, callbacks=[early_stopping])"
   ]
  },
  {
   "cell_type": "code",
   "execution_count": 37,
   "metadata": {
    "colab": {
     "base_uri": "https://localhost:8080/"
    },
    "id": "-NCsAo_7e6zd",
    "outputId": "fb1efe10-6204-4413-a8da-5837e371e73e"
   },
   "outputs": [
    {
     "data": {
      "text/plain": [
       "(489, 60, 1)"
      ]
     },
     "execution_count": 37,
     "metadata": {},
     "output_type": "execute_result"
    }
   ],
   "source": [
    "# Create the testing data set\n",
    "test_data = sc_close[training_len - 60: , :]\n",
    "\n",
    "\n",
    "# Create the empty sets x_test and y_test\n",
    "x_test = []\n",
    "y_test = dataset[training_len:, :]\n",
    "\n",
    "# Populating\n",
    "for i in range(60, len(test_data)):\n",
    "    x_test.append(test_data[i-60:i, 0])\n",
    "\n",
    "# Convert the data to a numpy array\n",
    "x_test = np.array(x_test)\n",
    "\n",
    "# Reshape the data\n",
    "x_test = np.reshape(x_test, (x_test.shape[0], x_test.shape[1],1 ))\n",
    "x_test.shape"
   ]
  },
  {
   "cell_type": "code",
   "execution_count": 38,
   "metadata": {
    "colab": {
     "base_uri": "https://localhost:8080/"
    },
    "id": "h6ENKtYLfIOJ",
    "outputId": "7efe0110-e2d7-4fab-bc7c-ffd8537a06a2"
   },
   "outputs": [
    {
     "name": "stdout",
     "output_type": "stream",
     "text": [
      "\u001b[1m16/16\u001b[0m \u001b[32m━━━━━━━━━━━━━━━━━━━━\u001b[0m\u001b[37m\u001b[0m \u001b[1m1s\u001b[0m 41ms/step\n"
     ]
    },
    {
     "data": {
      "text/plain": [
       "(489, 1)"
      ]
     },
     "execution_count": 38,
     "metadata": {},
     "output_type": "execute_result"
    }
   ],
   "source": [
    "# Get the models predicted price values\n",
    "predictions = model.predict(x_test)\n",
    "\n",
    "#reshaping the prediction data\n",
    "predictions = predictions.reshape(-1,1)\n",
    "\n",
    "# transforming scaled data\n",
    "predictions = sc.inverse_transform(predictions)\n",
    "\n",
    "#convert predictions to an array\n",
    "predictions = np.array(predictions)\n",
    "predictions.shape"
   ]
  },
  {
   "cell_type": "code",
   "execution_count": 39,
   "metadata": {
    "colab": {
     "base_uri": "https://localhost:8080/"
    },
    "id": "geyFXW89viOd",
    "outputId": "7c69d019-98b7-4a8a-8d67-eb24005c8d3c"
   },
   "outputs": [
    {
     "name": "stdout",
     "output_type": "stream",
     "text": [
      "rmse :  2.9108291178639325\n",
      "mse :  8.47292615340452\n",
      "mae :  2.15651713802283\n"
     ]
    }
   ],
   "source": [
    "#Get the root mean squared error (RMSE)\n",
    "rmse = np.sqrt(np.mean(((predictions - y_test) ** 2)))\n",
    "print('rmse : ', rmse)\n",
    "\n",
    "#Mean Square Error\n",
    "from sklearn.metrics import mean_squared_error\n",
    "\n",
    "# Calculation of Mean Squared Error (MSE)\n",
    "mse = mean_squared_error(predictions,y_test)\n",
    "print('mse : ' , mse)\n",
    "\n",
    "\n",
    "#mean absolute error\n",
    "mae = np.mean(np.abs(y_test - predictions))\n",
    "print('mae : ', mae )"
   ]
  },
  {
   "cell_type": "code",
   "execution_count": 48,
   "metadata": {
    "colab": {
     "base_uri": "https://localhost:8080/",
     "height": 532
    },
    "id": "sb-5XlqYRm5Y",
    "outputId": "ba354778-2e4b-471c-fbe6-0221b3bd6140"
   },
   "outputs": [
    {
     "name": "stderr",
     "output_type": "stream",
     "text": [
      "C:\\Users\\Thurlo\\AppData\\Local\\Temp\\ipykernel_23620\\891492763.py:4: SettingWithCopyWarning: \n",
      "A value is trying to be set on a copy of a slice from a DataFrame.\n",
      "Try using .loc[row_indexer,col_indexer] = value instead\n",
      "\n",
      "See the caveats in the documentation: https://pandas.pydata.org/pandas-docs/stable/user_guide/indexing.html#returning-a-view-versus-a-copy\n",
      "  valid['Predictions'] = predictions\n"
     ]
    },
    {
     "data": {
      "image/png": "[encoded data removed]",
      "text/plain": [
       "<Figure size 1152x432 with 1 Axes>"
      ]
     },
     "metadata": {
      "needs_background": "light"
     },
     "output_type": "display_data"
    }
   ],
   "source": [
    "# Plot the data\n",
    "train = close[:training_len]\n",
    "valid = close[training_len:]\n",
    "valid['Predictions'] = predictions\n",
    "\n",
    "# Visualize the data\n",
    "plt.figure(figsize=(16,6))\n",
    "plt.title('Model')\n",
    "plt.xlabel('Date', fontsize=18)\n",
    "plt.ylabel('Close Price USD ($)', fontsize=18)\n",
    "plt.plot(train['Close'])\n",
    "plt.plot(valid[['Close', 'Predictions']])\n",
    "plt.legend(['Train', 'Test', 'Predictions'], loc='lower right')\n",
    "plt.show()"
   ]
  },
  {
   "cell_type": "code",
   "execution_count": 41,
   "metadata": {
    "colab": {
     "base_uri": "https://localhost:8080/",
     "height": 455
    },
    "id": "1Hr6lt1oCp6q",
    "outputId": "7c94249f-a714-4000-ce2a-5986669a69f6"
   },
   "outputs": [
    {
     "data": {
      "text/html": [
       "<div>\n",
       "<style scoped>\n",
       "    .dataframe tbody tr th:only-of-type {\n",
       "        vertical-align: middle;\n",
       "    }\n",
       "\n",
       "    .dataframe tbody tr th {\n",
       "        vertical-align: top;\n",
       "    }\n",
       "\n",
       "    .dataframe thead th {\n",
       "        text-align: right;\n",
       "    }\n",
       "</style>\n",
       "<table border=\"1\" class=\"dataframe\">\n",
       "  <thead>\n",
       "    <tr style=\"text-align: right;\">\n",
       "      <th></th>\n",
       "      <th>Close</th>\n",
       "      <th>Predictions</th>\n",
       "    </tr>\n",
       "  </thead>\n",
       "  <tbody>\n",
       "    <tr>\n",
       "      <th>6409</th>\n",
       "      <td>96.790001</td>\n",
       "      <td>103.825836</td>\n",
       "    </tr>\n",
       "    <tr>\n",
       "      <th>6410</th>\n",
       "      <td>92.120003</td>\n",
       "      <td>99.724098</td>\n",
       "    </tr>\n",
       "    <tr>\n",
       "      <th>6411</th>\n",
       "      <td>89.300003</td>\n",
       "      <td>95.392708</td>\n",
       "    </tr>\n",
       "    <tr>\n",
       "      <th>6412</th>\n",
       "      <td>90.980003</td>\n",
       "      <td>92.021629</td>\n",
       "    </tr>\n",
       "    <tr>\n",
       "      <th>6413</th>\n",
       "      <td>90.529999</td>\n",
       "      <td>91.677925</td>\n",
       "    </tr>\n",
       "    <tr>\n",
       "      <th>...</th>\n",
       "      <td>...</td>\n",
       "      <td>...</td>\n",
       "    </tr>\n",
       "    <tr>\n",
       "      <th>6893</th>\n",
       "      <td>180.800003</td>\n",
       "      <td>185.691864</td>\n",
       "    </tr>\n",
       "    <tr>\n",
       "      <th>6894</th>\n",
       "      <td>182.720001</td>\n",
       "      <td>182.983887</td>\n",
       "    </tr>\n",
       "    <tr>\n",
       "      <th>6895</th>\n",
       "      <td>185.169998</td>\n",
       "      <td>182.902451</td>\n",
       "    </tr>\n",
       "    <tr>\n",
       "      <th>6896</th>\n",
       "      <td>186.649994</td>\n",
       "      <td>185.072998</td>\n",
       "    </tr>\n",
       "    <tr>\n",
       "      <th>6897</th>\n",
       "      <td>188.820007</td>\n",
       "      <td>187.115356</td>\n",
       "    </tr>\n",
       "  </tbody>\n",
       "</table>\n",
       "<p>489 rows × 2 columns</p>\n",
       "</div>"
      ],
      "text/plain": [
       "           Close  Predictions\n",
       "6409   96.790001   103.825836\n",
       "6410   92.120003    99.724098\n",
       "6411   89.300003    95.392708\n",
       "6412   90.980003    92.021629\n",
       "6413   90.529999    91.677925\n",
       "...          ...          ...\n",
       "6893  180.800003   185.691864\n",
       "6894  182.720001   182.983887\n",
       "6895  185.169998   182.902451\n",
       "6896  186.649994   185.072998\n",
       "6897  188.820007   187.115356\n",
       "\n",
       "[489 rows x 2 columns]"
      ]
     },
     "execution_count": 41,
     "metadata": {},
     "output_type": "execute_result"
    }
   ],
   "source": [
    "valid"
   ]
  },
  {
   "cell_type": "markdown",
   "metadata": {
    "id": "_FuE4dDdrG1I"
   },
   "source": [
    "# **Making Predictions using a different dataset**"
   ]
  },
  {
   "cell_type": "code",
   "execution_count": 42,
   "metadata": {
    "colab": {
     "base_uri": "https://localhost:8080/",
     "height": 646
    },
    "id": "LjXmH6O3rKZS",
    "outputId": "f5e38be7-6114-48b3-d5a8-fad75c821e17"
   },
   "outputs": [
    {
     "data": {
      "text/html": [
       "<div>\n",
       "<style scoped>\n",
       "    .dataframe tbody tr th:only-of-type {\n",
       "        vertical-align: middle;\n",
       "    }\n",
       "\n",
       "    .dataframe tbody tr th {\n",
       "        vertical-align: top;\n",
       "    }\n",
       "\n",
       "    .dataframe thead th {\n",
       "        text-align: right;\n",
       "    }\n",
       "</style>\n",
       "<table border=\"1\" class=\"dataframe\">\n",
       "  <thead>\n",
       "    <tr style=\"text-align: right;\">\n",
       "      <th></th>\n",
       "      <th>Open</th>\n",
       "      <th>High</th>\n",
       "      <th>Low</th>\n",
       "      <th>Close</th>\n",
       "      <th>Volume</th>\n",
       "      <th>Dividends</th>\n",
       "      <th>Stock Splits</th>\n",
       "    </tr>\n",
       "    <tr>\n",
       "      <th>Date</th>\n",
       "      <th></th>\n",
       "      <th></th>\n",
       "      <th></th>\n",
       "      <th></th>\n",
       "      <th></th>\n",
       "      <th></th>\n",
       "      <th></th>\n",
       "    </tr>\n",
       "  </thead>\n",
       "  <tbody>\n",
       "    <tr>\n",
       "      <th>2010-06-29 00:00:00-04:00</th>\n",
       "      <td>1.266667</td>\n",
       "      <td>1.666667</td>\n",
       "      <td>1.169333</td>\n",
       "      <td>1.592667</td>\n",
       "      <td>281494500</td>\n",
       "      <td>0.0</td>\n",
       "      <td>0.0</td>\n",
       "    </tr>\n",
       "    <tr>\n",
       "      <th>2010-06-30 00:00:00-04:00</th>\n",
       "      <td>1.719333</td>\n",
       "      <td>2.028000</td>\n",
       "      <td>1.553333</td>\n",
       "      <td>1.588667</td>\n",
       "      <td>257806500</td>\n",
       "      <td>0.0</td>\n",
       "      <td>0.0</td>\n",
       "    </tr>\n",
       "    <tr>\n",
       "      <th>2010-07-01 00:00:00-04:00</th>\n",
       "      <td>1.666667</td>\n",
       "      <td>1.728000</td>\n",
       "      <td>1.351333</td>\n",
       "      <td>1.464000</td>\n",
       "      <td>123282000</td>\n",
       "      <td>0.0</td>\n",
       "      <td>0.0</td>\n",
       "    </tr>\n",
       "    <tr>\n",
       "      <th>2010-07-02 00:00:00-04:00</th>\n",
       "      <td>1.533333</td>\n",
       "      <td>1.540000</td>\n",
       "      <td>1.247333</td>\n",
       "      <td>1.280000</td>\n",
       "      <td>77097000</td>\n",
       "      <td>0.0</td>\n",
       "      <td>0.0</td>\n",
       "    </tr>\n",
       "    <tr>\n",
       "      <th>2010-07-06 00:00:00-04:00</th>\n",
       "      <td>1.333333</td>\n",
       "      <td>1.333333</td>\n",
       "      <td>1.055333</td>\n",
       "      <td>1.074000</td>\n",
       "      <td>103003500</td>\n",
       "      <td>0.0</td>\n",
       "      <td>0.0</td>\n",
       "    </tr>\n",
       "    <tr>\n",
       "      <th>...</th>\n",
       "      <td>...</td>\n",
       "      <td>...</td>\n",
       "      <td>...</td>\n",
       "      <td>...</td>\n",
       "      <td>...</td>\n",
       "      <td>...</td>\n",
       "      <td>...</td>\n",
       "    </tr>\n",
       "    <tr>\n",
       "      <th>2024-10-08 00:00:00-04:00</th>\n",
       "      <td>243.559998</td>\n",
       "      <td>246.210007</td>\n",
       "      <td>240.559998</td>\n",
       "      <td>244.500000</td>\n",
       "      <td>56303200</td>\n",
       "      <td>0.0</td>\n",
       "      <td>0.0</td>\n",
       "    </tr>\n",
       "    <tr>\n",
       "      <th>2024-10-09 00:00:00-04:00</th>\n",
       "      <td>243.820007</td>\n",
       "      <td>247.429993</td>\n",
       "      <td>239.509995</td>\n",
       "      <td>241.050003</td>\n",
       "      <td>66289500</td>\n",
       "      <td>0.0</td>\n",
       "      <td>0.0</td>\n",
       "    </tr>\n",
       "    <tr>\n",
       "      <th>2024-10-10 00:00:00-04:00</th>\n",
       "      <td>241.809998</td>\n",
       "      <td>242.789993</td>\n",
       "      <td>232.339996</td>\n",
       "      <td>238.770004</td>\n",
       "      <td>83087100</td>\n",
       "      <td>0.0</td>\n",
       "      <td>0.0</td>\n",
       "    </tr>\n",
       "    <tr>\n",
       "      <th>2024-10-11 00:00:00-04:00</th>\n",
       "      <td>220.130005</td>\n",
       "      <td>223.339996</td>\n",
       "      <td>214.380005</td>\n",
       "      <td>217.800003</td>\n",
       "      <td>142287000</td>\n",
       "      <td>0.0</td>\n",
       "      <td>0.0</td>\n",
       "    </tr>\n",
       "    <tr>\n",
       "      <th>2024-10-14 00:00:00-04:00</th>\n",
       "      <td>220.130005</td>\n",
       "      <td>221.910004</td>\n",
       "      <td>213.740005</td>\n",
       "      <td>219.160004</td>\n",
       "      <td>85123635</td>\n",
       "      <td>0.0</td>\n",
       "      <td>0.0</td>\n",
       "    </tr>\n",
       "  </tbody>\n",
       "</table>\n",
       "<p>3598 rows × 7 columns</p>\n",
       "</div>"
      ],
      "text/plain": [
       "                                 Open        High         Low       Close  \\\n",
       "Date                                                                        \n",
       "2010-06-29 00:00:00-04:00    1.266667    1.666667    1.169333    1.592667   \n",
       "2010-06-30 00:00:00-04:00    1.719333    2.028000    1.553333    1.588667   \n",
       "2010-07-01 00:00:00-04:00    1.666667    1.728000    1.351333    1.464000   \n",
       "2010-07-02 00:00:00-04:00    1.533333    1.540000    1.247333    1.280000   \n",
       "2010-07-06 00:00:00-04:00    1.333333    1.333333    1.055333    1.074000   \n",
       "...                               ...         ...         ...         ...   \n",
       "2024-10-08 00:00:00-04:00  243.559998  246.210007  240.559998  244.500000   \n",
       "2024-10-09 00:00:00-04:00  243.820007  247.429993  239.509995  241.050003   \n",
       "2024-10-10 00:00:00-04:00  241.809998  242.789993  232.339996  238.770004   \n",
       "2024-10-11 00:00:00-04:00  220.130005  223.339996  214.380005  217.800003   \n",
       "2024-10-14 00:00:00-04:00  220.130005  221.910004  213.740005  219.160004   \n",
       "\n",
       "                              Volume  Dividends  Stock Splits  \n",
       "Date                                                           \n",
       "2010-06-29 00:00:00-04:00  281494500        0.0           0.0  \n",
       "2010-06-30 00:00:00-04:00  257806500        0.0           0.0  \n",
       "2010-07-01 00:00:00-04:00  123282000        0.0           0.0  \n",
       "2010-07-02 00:00:00-04:00   77097000        0.0           0.0  \n",
       "2010-07-06 00:00:00-04:00  103003500        0.0           0.0  \n",
       "...                              ...        ...           ...  \n",
       "2024-10-08 00:00:00-04:00   56303200        0.0           0.0  \n",
       "2024-10-09 00:00:00-04:00   66289500        0.0           0.0  \n",
       "2024-10-10 00:00:00-04:00   83087100        0.0           0.0  \n",
       "2024-10-11 00:00:00-04:00  142287000        0.0           0.0  \n",
       "2024-10-14 00:00:00-04:00   85123635        0.0           0.0  \n",
       "\n",
       "[3598 rows x 7 columns]"
      ]
     },
     "execution_count": 42,
     "metadata": {},
     "output_type": "execute_result"
    }
   ],
   "source": [
    "#Load data (Tesla)\n",
    "\n",
    "Tesla = yf.Ticker('TSLA')\n",
    "Tesla = Tesla.history(\"max\")\n",
    "Tesla"
   ]
  },
  {
   "cell_type": "code",
   "execution_count": 43,
   "metadata": {
    "colab": {
     "base_uri": "https://localhost:8080/",
     "height": 490
    },
    "id": "IJX836TArcwy",
    "outputId": "d1b8b0bf-65ca-4c38-e484-c8cef602ef02"
   },
   "outputs": [
    {
     "data": {
      "text/plain": [
       "Date\n",
       "2024-07-19 00:00:00-04:00    239.199997\n",
       "2024-07-22 00:00:00-04:00    251.509995\n",
       "2024-07-23 00:00:00-04:00    246.380005\n",
       "2024-07-24 00:00:00-04:00    215.990005\n",
       "2024-07-25 00:00:00-04:00    220.250000\n",
       "                                ...    \n",
       "2024-10-08 00:00:00-04:00    244.500000\n",
       "2024-10-09 00:00:00-04:00    241.050003\n",
       "2024-10-10 00:00:00-04:00    238.770004\n",
       "2024-10-11 00:00:00-04:00    217.800003\n",
       "2024-10-14 00:00:00-04:00    219.160004\n",
       "Name: Close, Length: 61, dtype: float64"
      ]
     },
     "execution_count": 43,
     "metadata": {},
     "output_type": "execute_result"
    }
   ],
   "source": [
    "#Extracting data for predictions\n",
    "Tesla = Tesla['Close'].tail(61)\n",
    "Tesla"
   ]
  },
  {
   "cell_type": "code",
   "execution_count": 44,
   "metadata": {
    "colab": {
     "base_uri": "https://localhost:8080/"
    },
    "id": "lFXAiDk0NV1A",
    "outputId": "6be4aee4-c727-484c-a4b8-f25d84a6ee89"
   },
   "outputs": [
    {
     "name": "stderr",
     "output_type": "stream",
     "text": [
      "C:\\Users\\Thurlo\\anaconda3\\lib\\site-packages\\sklearn\\base.py:450: UserWarning: X does not have valid feature names, but MinMaxScaler was fitted with feature names\n",
      "  warnings.warn(\n"
     ]
    },
    {
     "data": {
      "text/plain": [
       "array([[1.19728579, 1.25923957, 1.23342135, 1.08047452, 1.10191423,\n",
       "        1.09964948, 1.16155295, 1.11384194, 1.16140197, 1.08485303,\n",
       "        1.03860158, 0.99436329, 1.00322099, 0.95852969, 0.99416193,\n",
       "        1.        , 0.9873677 , 1.03940684, 1.00694529, 1.07116381,\n",
       "        1.08112873, 1.11434525, 1.10619214, 1.11711331, 1.05364968,\n",
       "        1.10226656, 1.06648334, 1.04635213, 1.02893861, 1.03160599,\n",
       "        1.07101283, 1.05334772, 1.09768669, 1.15183961, 1.05400194,\n",
       "        1.0818837 , 1.1317084 , 1.14157272, 1.15002779, 1.15244352,\n",
       "        1.13477841, 1.14026415, 1.13689218, 1.22104062, 1.19250465,\n",
       "        1.25164006, 1.27313015, 1.28697027, 1.27287849, 1.30428312,\n",
       "        1.31017157, 1.29200308, 1.24670794, 1.20463372, 1.2520427 ,\n",
       "        1.20548929, 1.22395966, 1.20659651, 1.19512173, 1.08958388]])"
      ]
     },
     "execution_count": 44,
     "metadata": {},
     "output_type": "execute_result"
    }
   ],
   "source": [
    "# extracting dependent and independent variables\n",
    "data_test = Tesla.head(60).values\n",
    "\n",
    "#Scaling the extracted data\n",
    "sc_test_x = sc.transform(data_test.reshape(-1,1))\n",
    "\n",
    "#Reshaping the scaled data\n",
    "sc_test_x = sc_test_x.reshape(-1,60)\n",
    "\n",
    "sc_test_x"
   ]
  },
  {
   "cell_type": "code",
   "execution_count": 45,
   "metadata": {
    "colab": {
     "base_uri": "https://localhost:8080/"
    },
    "id": "TtGSj4VYNYjx",
    "outputId": "8b463d10-a95a-4600-f505-ff5f6308143e"
   },
   "outputs": [
    {
     "name": "stdout",
     "output_type": "stream",
     "text": [
      "\u001b[1m1/1\u001b[0m \u001b[32m━━━━━━━━━━━━━━━━━━━━\u001b[0m\u001b[37m\u001b[0m \u001b[1m0s\u001b[0m 48ms/step\n"
     ]
    },
    {
     "data": {
      "text/plain": [
       "array([[220.79327]], dtype=float32)"
      ]
     },
     "execution_count": 45,
     "metadata": {},
     "output_type": "execute_result"
    }
   ],
   "source": [
    "# Reshaping the scaled data to match the input shape of the model\n",
    "sc_test_x = sc_test_x.reshape(1, 60, 1)\n",
    "\n",
    "#predicting the new closing price using the Random forest model\n",
    "pred_y = model.predict(sc_test_x)\n",
    "\n",
    "#transforming prediction\n",
    "prediction = sc.inverse_transform(pred_y.reshape(-1,1))\n",
    "prediction"
   ]
  },
  {
   "cell_type": "code",
   "execution_count": 46,
   "metadata": {
    "colab": {
     "base_uri": "https://localhost:8080/"
    },
    "id": "9B-QB0EONdF8",
    "outputId": "0b0e577d-37e2-4a4f-f244-63beb07339e6"
   },
   "outputs": [
    {
     "data": {
      "text/plain": [
       "219.16000366210938"
      ]
     },
     "execution_count": 46,
     "metadata": {},
     "output_type": "execute_result"
    }
   ],
   "source": [
    "# actual value of prediction\n",
    "Tesla[60]"
   ]
  },
  {
   "cell_type": "code",
   "execution_count": null,
   "metadata": {
    "id": "NnFpAqIEN6-p"
   },
   "outputs": [],
   "source": []
  },
  {
   "cell_type": "markdown",
   "metadata": {
    "id": "MGssFKjifoaa"
   },
   "source": [
    "# Model"
   ]
  },
  {
   "cell_type": "code",
   "execution_count": 47,
   "metadata": {
    "colab": {
     "base_uri": "https://localhost:8080/"
    },
    "id": "REd9iGuKfqDg",
    "outputId": "2ccb7375-8e95-4184-fab0-0f62eb7cf53f"
   },
   "outputs": [
    {
     "name": "stderr",
     "output_type": "stream",
     "text": [
      "WARNING:absl:You are saving your model as an HDF5 file via `model.save()` or `keras.saving.save_model(model)`. This file format is considered legacy. We recommend using instead the native Keras format, e.g. `model.save('my_model.keras')` or `keras.saving.save_model(model, 'my_model.keras')`. \n"
     ]
    }
   ],
   "source": [
    "#Saving the model\n",
    "model.save('LSTM.h5')"
   ]
  },
  {
   "cell_type": "code",
   "execution_count": null,
   "metadata": {
    "id": "4ea4TcG7fzie"
   },
   "outputs": [],
   "source": []
  },
  {
   "cell_type": "code",
   "execution_count": null,
   "metadata": {},
   "outputs": [],
   "source": []
  }
 ],
 "metadata": {
  "accelerator": "GPU",
  "colab": {
   "gpuType": "T4",
   "provenance": []
  },
  "kernelspec": {
   "display_name": "Python 3 (ipykernel)",
   "language": "python",
   "name": "python3"
  },
  "language_info": {
   "codemirror_mode": {
    "name": "ipython",
    "version": 3
   },
   "file_extension": ".py",
   "mimetype": "text/x-python",
   "name": "python",
   "nbconvert_exporter": "python",
   "pygments_lexer": "ipython3",
   "version": "3.9.12"
  }
 },
 "nbformat": 4,
 "nbformat_minor": 1
}
