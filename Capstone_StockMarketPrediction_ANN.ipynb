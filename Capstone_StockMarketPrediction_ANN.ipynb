{
 "cells": [
  {
   "cell_type": "markdown",
   "metadata": {
    "id": "bfo9HTtgAZq5"
   },
   "source": [
    "# **Load Important Libraries**"
   ]
  },
  {
   "cell_type": "code",
   "execution_count": 1,
   "metadata": {
    "id": "Fgp36wIUAV8o"
   },
   "outputs": [
    {
     "name": "stderr",
     "output_type": "stream",
     "text": [
      "C:\\Users\\Thurlo\\anaconda3\\lib\\site-packages\\scipy\\__init__.py:146: UserWarning: A NumPy version >=1.16.5 and <1.23.0 is required for this version of SciPy (detected version 1.26.4\n",
      "  warnings.warn(f\"A NumPy version >={np_minversion} and <{np_maxversion}\"\n"
     ]
    }
   ],
   "source": [
    "import numpy as np\n",
    "import pandas as pd\n",
    "import matplotlib.pyplot as plt\n",
    "\n",
    "\n",
    "# Data collection\n",
    "import yfinance as yf\n",
    "\n",
    "#Data Scaling\n",
    "from sklearn.preprocessing import MinMaxScaler\n",
    "\n",
    "#LSTM\n",
    "from keras.models import Sequential\n",
    "from keras.layers import Dense"
   ]
  },
  {
   "cell_type": "markdown",
   "metadata": {
    "id": "RGRZXcTKAfCk"
   },
   "source": [
    "# **Load the data**"
   ]
  },
  {
   "cell_type": "code",
   "execution_count": 2,
   "metadata": {
    "colab": {
     "base_uri": "https://localhost:8080/",
     "height": 455
    },
    "id": "JRwflCxSAi0k",
    "outputId": "78dd5d7b-ec4e-43ea-cb3a-7dee2410b2b7"
   },
   "outputs": [
    {
     "data": {
      "text/html": [
       "<div>\n",
       "<style scoped>\n",
       "    .dataframe tbody tr th:only-of-type {\n",
       "        vertical-align: middle;\n",
       "    }\n",
       "\n",
       "    .dataframe tbody tr th {\n",
       "        vertical-align: top;\n",
       "    }\n",
       "\n",
       "    .dataframe thead th {\n",
       "        text-align: right;\n",
       "    }\n",
       "</style>\n",
       "<table border=\"1\" class=\"dataframe\">\n",
       "  <thead>\n",
       "    <tr style=\"text-align: right;\">\n",
       "      <th></th>\n",
       "      <th>Date</th>\n",
       "      <th>Open</th>\n",
       "      <th>High</th>\n",
       "      <th>Low</th>\n",
       "      <th>Close</th>\n",
       "      <th>Volume</th>\n",
       "    </tr>\n",
       "  </thead>\n",
       "  <tbody>\n",
       "    <tr>\n",
       "      <th>0</th>\n",
       "      <td>1997-05-15 00:00:00-04:00</td>\n",
       "      <td>0.121875</td>\n",
       "      <td>0.125000</td>\n",
       "      <td>0.096354</td>\n",
       "      <td>0.097917</td>\n",
       "      <td>1443120000</td>\n",
       "    </tr>\n",
       "    <tr>\n",
       "      <th>1</th>\n",
       "      <td>1997-05-16 00:00:00-04:00</td>\n",
       "      <td>0.098438</td>\n",
       "      <td>0.098958</td>\n",
       "      <td>0.085417</td>\n",
       "      <td>0.086458</td>\n",
       "      <td>294000000</td>\n",
       "    </tr>\n",
       "    <tr>\n",
       "      <th>2</th>\n",
       "      <td>1997-05-19 00:00:00-04:00</td>\n",
       "      <td>0.088021</td>\n",
       "      <td>0.088542</td>\n",
       "      <td>0.081250</td>\n",
       "      <td>0.085417</td>\n",
       "      <td>122136000</td>\n",
       "    </tr>\n",
       "    <tr>\n",
       "      <th>3</th>\n",
       "      <td>1997-05-20 00:00:00-04:00</td>\n",
       "      <td>0.086458</td>\n",
       "      <td>0.087500</td>\n",
       "      <td>0.081771</td>\n",
       "      <td>0.081771</td>\n",
       "      <td>109344000</td>\n",
       "    </tr>\n",
       "    <tr>\n",
       "      <th>4</th>\n",
       "      <td>1997-05-21 00:00:00-04:00</td>\n",
       "      <td>0.081771</td>\n",
       "      <td>0.082292</td>\n",
       "      <td>0.068750</td>\n",
       "      <td>0.071354</td>\n",
       "      <td>377064000</td>\n",
       "    </tr>\n",
       "    <tr>\n",
       "      <th>...</th>\n",
       "      <td>...</td>\n",
       "      <td>...</td>\n",
       "      <td>...</td>\n",
       "      <td>...</td>\n",
       "      <td>...</td>\n",
       "      <td>...</td>\n",
       "    </tr>\n",
       "    <tr>\n",
       "      <th>6893</th>\n",
       "      <td>2024-10-07 00:00:00-04:00</td>\n",
       "      <td>182.949997</td>\n",
       "      <td>183.600006</td>\n",
       "      <td>180.250000</td>\n",
       "      <td>180.800003</td>\n",
       "      <td>42364200</td>\n",
       "    </tr>\n",
       "    <tr>\n",
       "      <th>6894</th>\n",
       "      <td>2024-10-08 00:00:00-04:00</td>\n",
       "      <td>181.919998</td>\n",
       "      <td>183.089996</td>\n",
       "      <td>180.919998</td>\n",
       "      <td>182.720001</td>\n",
       "      <td>26372100</td>\n",
       "    </tr>\n",
       "    <tr>\n",
       "      <th>6895</th>\n",
       "      <td>2024-10-09 00:00:00-04:00</td>\n",
       "      <td>182.820007</td>\n",
       "      <td>185.850006</td>\n",
       "      <td>182.050003</td>\n",
       "      <td>185.169998</td>\n",
       "      <td>26343100</td>\n",
       "    </tr>\n",
       "    <tr>\n",
       "      <th>6896</th>\n",
       "      <td>2024-10-10 00:00:00-04:00</td>\n",
       "      <td>187.130005</td>\n",
       "      <td>188.130005</td>\n",
       "      <td>185.830002</td>\n",
       "      <td>186.649994</td>\n",
       "      <td>27785000</td>\n",
       "    </tr>\n",
       "    <tr>\n",
       "      <th>6897</th>\n",
       "      <td>2024-10-11 00:00:00-04:00</td>\n",
       "      <td>186.630005</td>\n",
       "      <td>189.929993</td>\n",
       "      <td>186.300003</td>\n",
       "      <td>188.820007</td>\n",
       "      <td>25658900</td>\n",
       "    </tr>\n",
       "  </tbody>\n",
       "</table>\n",
       "<p>6898 rows × 6 columns</p>\n",
       "</div>"
      ],
      "text/plain": [
       "                           Date        Open        High         Low  \\\n",
       "0     1997-05-15 00:00:00-04:00    0.121875    0.125000    0.096354   \n",
       "1     1997-05-16 00:00:00-04:00    0.098438    0.098958    0.085417   \n",
       "2     1997-05-19 00:00:00-04:00    0.088021    0.088542    0.081250   \n",
       "3     1997-05-20 00:00:00-04:00    0.086458    0.087500    0.081771   \n",
       "4     1997-05-21 00:00:00-04:00    0.081771    0.082292    0.068750   \n",
       "...                         ...         ...         ...         ...   \n",
       "6893  2024-10-07 00:00:00-04:00  182.949997  183.600006  180.250000   \n",
       "6894  2024-10-08 00:00:00-04:00  181.919998  183.089996  180.919998   \n",
       "6895  2024-10-09 00:00:00-04:00  182.820007  185.850006  182.050003   \n",
       "6896  2024-10-10 00:00:00-04:00  187.130005  188.130005  185.830002   \n",
       "6897  2024-10-11 00:00:00-04:00  186.630005  189.929993  186.300003   \n",
       "\n",
       "           Close      Volume  \n",
       "0       0.097917  1443120000  \n",
       "1       0.086458   294000000  \n",
       "2       0.085417   122136000  \n",
       "3       0.081771   109344000  \n",
       "4       0.071354   377064000  \n",
       "...          ...         ...  \n",
       "6893  180.800003    42364200  \n",
       "6894  182.720001    26372100  \n",
       "6895  185.169998    26343100  \n",
       "6896  186.649994    27785000  \n",
       "6897  188.820007    25658900  \n",
       "\n",
       "[6898 rows x 6 columns]"
      ]
     },
     "execution_count": 2,
     "metadata": {},
     "output_type": "execute_result"
    }
   ],
   "source": [
    "#Load data (Amazon)\n",
    "\n",
    "df = pd.read_csv('amazon_stock_data.csv')\n",
    "df "
   ]
  },
  {
   "cell_type": "markdown",
   "metadata": {
    "id": "DXLVA7PxbcWB"
   },
   "source": [
    "# Splitting the Dataset"
   ]
  },
  {
   "cell_type": "code",
   "execution_count": 3,
   "metadata": {
    "colab": {
     "base_uri": "https://localhost:8080/"
    },
    "id": "cpJuVF3vWN2x",
    "outputId": "a976f6db-fd6e-47fa-b880-f163316cd9e5"
   },
   "outputs": [
    {
     "data": {
      "text/plain": [
       "4829"
      ]
     },
     "execution_count": 3,
     "metadata": {},
     "output_type": "execute_result"
    }
   ],
   "source": [
    "# Create a new dataframe with only the 'Close column\n",
    "close = df.filter(['Close'])\n",
    "# Convert the dataframe to a numpy array\n",
    "dataset = close.values\n",
    "# Get the number of rows to train the model on\n",
    "training_len = int(np.ceil( len(dataset) * .7 ))\n",
    "\n",
    "training_len"
   ]
  },
  {
   "cell_type": "code",
   "execution_count": 4,
   "metadata": {
    "colab": {
     "base_uri": "https://localhost:8080/"
    },
    "id": "O4MIiM5iZ3JK",
    "outputId": "89d4489f-e428-4729-bdb7-c6b4092ec7ce"
   },
   "outputs": [
    {
     "data": {
      "text/plain": [
       "array([[1.40674067e-04],\n",
       "       [8.33590646e-05],\n",
       "       [7.81522720e-05],\n",
       "       ...,\n",
       "       [9.25824106e-01],\n",
       "       [9.33226668e-01],\n",
       "       [9.44080523e-01]])"
      ]
     },
     "execution_count": 4,
     "metadata": {},
     "output_type": "execute_result"
    }
   ],
   "source": [
    "# Using Min Max Scalar to scale the data\n",
    "sc = MinMaxScaler(feature_range=(0,1))\n",
    "\n",
    "#Scaling the close (closing price) data\n",
    "sc_close = sc.fit_transform(close)\n",
    "sc_close"
   ]
  },
  {
   "cell_type": "code",
   "execution_count": 5,
   "metadata": {
    "colab": {
     "base_uri": "https://localhost:8080/"
    },
    "id": "uIR3_X7yfug0",
    "outputId": "9ed8e48e-b050-4127-8e71-a0e175fc55f5"
   },
   "outputs": [
    {
     "name": "stdout",
     "output_type": "stream",
     "text": [
      "[array([1.40674067e-04, 8.33590646e-05, 7.81522720e-05, 5.99159022e-05,\n",
      "       7.81272293e-06, 0.00000000e+00, 2.60490928e-05, 4.68913558e-05,\n",
      "       3.38668094e-05, 2.73495239e-05, 2.60490928e-05, 2.86549859e-05,\n",
      "       2.08372693e-05, 5.20679257e-06, 3.64677088e-05, 6.51277256e-05,\n",
      "       7.29404486e-05, 4.68913558e-05, 3.64677088e-05, 5.20981856e-05,\n",
      "       4.68913558e-05, 4.42854254e-05, 2.73495239e-05, 2.86549859e-05,\n",
      "       2.86549859e-05, 3.25613474e-05, 2.60490928e-05, 2.86549859e-05,\n",
      "       2.86549859e-05, 2.86549859e-05, 2.34431624e-05, 3.64677088e-05,\n",
      "       2.99554543e-05, 4.81917869e-05, 1.28949989e-04, 1.51092721e-04,\n",
      "       2.26639062e-04, 2.31850886e-04, 2.91766788e-04, 2.24033169e-04,\n",
      "       1.84959530e-04, 2.60505909e-04, 2.34456816e-04, 2.05801793e-04,\n",
      "       1.90171353e-04, 1.96683608e-04, 1.84959530e-04, 2.24033169e-04,\n",
      "       2.16220446e-04, 2.08402730e-04, 2.31850886e-04, 2.70924525e-04,\n",
      "       2.63111802e-04, 2.50087256e-04, 2.55294085e-04, 2.29244993e-04,\n",
      "       2.03195900e-04, 2.13614516e-04, 1.95378183e-04, 2.24033169e-04])]\n",
      "[0.00023315135405490027]\n",
      "[array([1.40674067e-04, 8.33590646e-05, 7.81522720e-05, 5.99159022e-05,\n",
      "       7.81272293e-06, 0.00000000e+00, 2.60490928e-05, 4.68913558e-05,\n",
      "       3.38668094e-05, 2.73495239e-05, 2.60490928e-05, 2.86549859e-05,\n",
      "       2.08372693e-05, 5.20679257e-06, 3.64677088e-05, 6.51277256e-05,\n",
      "       7.29404486e-05, 4.68913558e-05, 3.64677088e-05, 5.20981856e-05,\n",
      "       4.68913558e-05, 4.42854254e-05, 2.73495239e-05, 2.86549859e-05,\n",
      "       2.86549859e-05, 3.25613474e-05, 2.60490928e-05, 2.86549859e-05,\n",
      "       2.86549859e-05, 2.86549859e-05, 2.34431624e-05, 3.64677088e-05,\n",
      "       2.99554543e-05, 4.81917869e-05, 1.28949989e-04, 1.51092721e-04,\n",
      "       2.26639062e-04, 2.31850886e-04, 2.91766788e-04, 2.24033169e-04,\n",
      "       1.84959530e-04, 2.60505909e-04, 2.34456816e-04, 2.05801793e-04,\n",
      "       1.90171353e-04, 1.96683608e-04, 1.84959530e-04, 2.24033169e-04,\n",
      "       2.16220446e-04, 2.08402730e-04, 2.31850886e-04, 2.70924525e-04,\n",
      "       2.63111802e-04, 2.50087256e-04, 2.55294085e-04, 2.29244993e-04,\n",
      "       2.03195900e-04, 2.13614516e-04, 1.95378183e-04, 2.24033169e-04]), array([8.33590646e-05, 7.81522720e-05, 5.99159022e-05, 7.81272293e-06,\n",
      "       0.00000000e+00, 2.60490928e-05, 4.68913558e-05, 3.38668094e-05,\n",
      "       2.73495239e-05, 2.60490928e-05, 2.86549859e-05, 2.08372693e-05,\n",
      "       5.20679257e-06, 3.64677088e-05, 6.51277256e-05, 7.29404486e-05,\n",
      "       4.68913558e-05, 3.64677088e-05, 5.20981856e-05, 4.68913558e-05,\n",
      "       4.42854254e-05, 2.73495239e-05, 2.86549859e-05, 2.86549859e-05,\n",
      "       3.25613474e-05, 2.60490928e-05, 2.86549859e-05, 2.86549859e-05,\n",
      "       2.86549859e-05, 2.34431624e-05, 3.64677088e-05, 2.99554543e-05,\n",
      "       4.81917869e-05, 1.28949989e-04, 1.51092721e-04, 2.26639062e-04,\n",
      "       2.31850886e-04, 2.91766788e-04, 2.24033169e-04, 1.84959530e-04,\n",
      "       2.60505909e-04, 2.34456816e-04, 2.05801793e-04, 1.90171353e-04,\n",
      "       1.96683608e-04, 1.84959530e-04, 2.24033169e-04, 2.16220446e-04,\n",
      "       2.08402730e-04, 2.31850886e-04, 2.70924525e-04, 2.63111802e-04,\n",
      "       2.50087256e-04, 2.55294085e-04, 2.29244993e-04, 2.03195900e-04,\n",
      "       2.13614516e-04, 1.95378183e-04, 2.24033169e-04, 2.33151354e-04])]\n",
      "[0.00023315135405490027, 0.0002005899694276886]\n"
     ]
    }
   ],
   "source": [
    "# Create the training data set\n",
    "# Create the scaled training data set\n",
    "train_data = sc_close[0:int(training_len), :]\n",
    "\n",
    "# creating empty sets\n",
    "x_train = []\n",
    "y_train = []\n",
    "\n",
    "# Split the data into x_train and y_train data sets\n",
    "for i in range(60 ,len(train_data)):\n",
    "    x_train.append(train_data[i-60:i, 0])\n",
    "    y_train.append(train_data[i, 0])\n",
    "    if i<= 61:\n",
    "        print(x_train)\n",
    "        print(y_train)\n"
   ]
  },
  {
   "cell_type": "code",
   "execution_count": 6,
   "metadata": {
    "colab": {
     "base_uri": "https://localhost:8080/"
    },
    "id": "Tgl9Ql34bXD9",
    "outputId": "dd49ca76-2b3b-473a-879c-a3c901278c9e"
   },
   "outputs": [
    {
     "data": {
      "text/plain": [
       "array([[1.40674067e-04, 8.33590646e-05, 7.81522720e-05, ...,\n",
       "        2.13614516e-04, 1.95378183e-04, 2.24033169e-04],\n",
       "       [8.33590646e-05, 7.81522720e-05, 5.99159022e-05, ...,\n",
       "        1.95378183e-04, 2.24033169e-04, 2.33151354e-04],\n",
       "       [7.81522720e-05, 5.99159022e-05, 7.81272293e-06, ...,\n",
       "        2.24033169e-04, 2.33151354e-04, 2.00589969e-04],\n",
       "       ...,\n",
       "       [1.56255564e-01, 1.53924753e-01, 1.51346358e-01, ...,\n",
       "        1.83575097e-01, 1.83732661e-01, 1.84703001e-01],\n",
       "       [1.53924753e-01, 1.51346358e-01, 1.50203457e-01, ...,\n",
       "        1.83732661e-01, 1.84703001e-01, 1.86145994e-01],\n",
       "       [1.51346358e-01, 1.50203457e-01, 1.64605980e-01, ...,\n",
       "        1.84703001e-01, 1.86145994e-01, 1.85823387e-01]])"
      ]
     },
     "execution_count": 6,
     "metadata": {},
     "output_type": "execute_result"
    }
   ],
   "source": [
    "# Convert the x_train and y_train to numpy arrays\n",
    "x_train, y_train = np.array(x_train), np.array(y_train)\n",
    "x_train"
   ]
  },
  {
   "cell_type": "code",
   "execution_count": 7,
   "metadata": {
    "colab": {
     "base_uri": "https://localhost:8080/"
    },
    "id": "4xvkrVGe8dB3",
    "outputId": "582389a9-5d5a-4736-98ed-e5e01c66fb8e"
   },
   "outputs": [
    {
     "data": {
      "text/plain": [
       "(4769, 60, 1)"
      ]
     },
     "execution_count": 7,
     "metadata": {},
     "output_type": "execute_result"
    }
   ],
   "source": [
    "# Reshape the data\n",
    "x_train = np.reshape(x_train, (x_train.shape[0], x_train.shape[1], 1))\n",
    "x_train.shape"
   ]
  },
  {
   "cell_type": "markdown",
   "metadata": {
    "id": "gEGpccaLe4cN"
   },
   "source": [
    "# Model 1 : Artificial Neural Network\n"
   ]
  },
  {
   "cell_type": "code",
   "execution_count": 8,
   "metadata": {
    "colab": {
     "base_uri": "https://localhost:8080/"
    },
    "id": "48UWlAaBelzu",
    "outputId": "ab56f50c-1fed-449f-9e11-4efdc0aca163"
   },
   "outputs": [
    {
     "name": "stdout",
     "output_type": "stream",
     "text": [
      "Epoch 1/10\n"
     ]
    },
    {
     "name": "stderr",
     "output_type": "stream",
     "text": [
      "C:\\Users\\Thurlo\\anaconda3\\lib\\site-packages\\keras\\src\\layers\\core\\dense.py:87: UserWarning: Do not pass an `input_shape`/`input_dim` argument to a layer. When using Sequential models, prefer using an `Input(shape)` object as the first layer in the model instead.\n",
      "  super().__init__(activity_regularizer=activity_regularizer, **kwargs)\n"
     ]
    },
    {
     "name": "stdout",
     "output_type": "stream",
     "text": [
      "\u001b[1m150/150\u001b[0m \u001b[32m━━━━━━━━━━━━━━━━━━━━\u001b[0m\u001b[37m\u001b[0m \u001b[1m2s\u001b[0m 2ms/step - loss: 0.0013\n",
      "Epoch 2/10\n",
      "\u001b[1m150/150\u001b[0m \u001b[32m━━━━━━━━━━━━━━━━━━━━\u001b[0m\u001b[37m\u001b[0m \u001b[1m0s\u001b[0m 2ms/step - loss: 1.1305e-05\n",
      "Epoch 3/10\n",
      "\u001b[1m150/150\u001b[0m \u001b[32m━━━━━━━━━━━━━━━━━━━━\u001b[0m\u001b[37m\u001b[0m \u001b[1m0s\u001b[0m 2ms/step - loss: 7.4308e-06\n",
      "Epoch 4/10\n",
      "\u001b[1m150/150\u001b[0m \u001b[32m━━━━━━━━━━━━━━━━━━━━\u001b[0m\u001b[37m\u001b[0m \u001b[1m0s\u001b[0m 3ms/step - loss: 7.3217e-06\n",
      "Epoch 5/10\n",
      "\u001b[1m150/150\u001b[0m \u001b[32m━━━━━━━━━━━━━━━━━━━━\u001b[0m\u001b[37m\u001b[0m \u001b[1m0s\u001b[0m 2ms/step - loss: 1.1678e-05\n",
      "Epoch 6/10\n",
      "\u001b[1m150/150\u001b[0m \u001b[32m━━━━━━━━━━━━━━━━━━━━\u001b[0m\u001b[37m\u001b[0m \u001b[1m0s\u001b[0m 2ms/step - loss: 5.6944e-06\n",
      "Epoch 7/10\n",
      "\u001b[1m150/150\u001b[0m \u001b[32m━━━━━━━━━━━━━━━━━━━━\u001b[0m\u001b[37m\u001b[0m \u001b[1m0s\u001b[0m 2ms/step - loss: 6.7364e-06\n",
      "Epoch 8/10\n",
      "\u001b[1m150/150\u001b[0m \u001b[32m━━━━━━━━━━━━━━━━━━━━\u001b[0m\u001b[37m\u001b[0m \u001b[1m0s\u001b[0m 2ms/step - loss: 4.6853e-06\n",
      "Epoch 9/10\n",
      "\u001b[1m150/150\u001b[0m \u001b[32m━━━━━━━━━━━━━━━━━━━━\u001b[0m\u001b[37m\u001b[0m \u001b[1m0s\u001b[0m 2ms/step - loss: 7.9844e-06\n",
      "Epoch 10/10\n",
      "\u001b[1m150/150\u001b[0m \u001b[32m━━━━━━━━━━━━━━━━━━━━\u001b[0m\u001b[37m\u001b[0m \u001b[1m0s\u001b[0m 2ms/step - loss: 4.2978e-06\n"
     ]
    },
    {
     "data": {
      "text/plain": [
       "<keras.src.callbacks.history.History at 0x2556358b610>"
      ]
     },
     "execution_count": 8,
     "metadata": {},
     "output_type": "execute_result"
    }
   ],
   "source": [
    "# Build the ANN model\n",
    "from keras.optimizers import Adam\n",
    "\n",
    "model = Sequential()\n",
    "model.add(Dense(units = 128, activation = 'relu', input_shape= (x_train.shape[1], )))\n",
    "model.add(Dense(units = 64, activation = 'relu'))\n",
    "model.add(Dense(units = 16))\n",
    "model.add(Dense(1))\n",
    "\n",
    "optimizer = Adam(learning_rate = 0.002)\n",
    "\n",
    "# Compile the model\n",
    "model.compile(optimizer=optimizer, loss='mean_squared_error')\n",
    "\n",
    "# Compile the model\n",
    "#model.compile(optimizer='adam', loss='mean_squared_error')\n",
    "\n",
    "# Train the model\n",
    "model.fit(x_train, y_train, batch_size=32, epochs=12)"
   ]
  },
  {
   "cell_type": "code",
   "execution_count": 9,
   "metadata": {
    "colab": {
     "base_uri": "https://localhost:8080/"
    },
    "id": "-NCsAo_7e6zd",
    "outputId": "a6a7adbc-aa2b-42de-9065-74d3a1870eb3"
   },
   "outputs": [
    {
     "data": {
      "text/plain": [
       "(2069, 60, 1)"
      ]
     },
     "execution_count": 9,
     "metadata": {},
     "output_type": "execute_result"
    }
   ],
   "source": [
    "# Create the testing data set\n",
    "test_data = sc_close[training_len - 60: , :]\n",
    "\n",
    "\n",
    "# Create the empty sets x_test and y_test\n",
    "x_test = []\n",
    "y_test = dataset[training_len:, :]\n",
    "\n",
    "# Populating\n",
    "for i in range(60, len(test_data)):\n",
    "    x_test.append(test_data[i-60:i, 0])\n",
    "\n",
    "# Convert the data to a numpy array\n",
    "x_test = np.array(x_test)\n",
    "\n",
    "# Reshape the data\n",
    "x_test = np.reshape(x_test, (x_test.shape[0], x_test.shape[1],1 ))\n",
    "x_test.shape"
   ]
  },
  {
   "cell_type": "code",
   "execution_count": 10,
   "metadata": {
    "colab": {
     "base_uri": "https://localhost:8080/"
    },
    "id": "h6ENKtYLfIOJ",
    "outputId": "15dc9b4b-e46f-421b-fad3-40892adeeae8"
   },
   "outputs": [
    {
     "name": "stdout",
     "output_type": "stream",
     "text": [
      "\u001b[1m65/65\u001b[0m \u001b[32m━━━━━━━━━━━━━━━━━━━━\u001b[0m\u001b[37m\u001b[0m \u001b[1m0s\u001b[0m 2ms/step\n"
     ]
    },
    {
     "data": {
      "text/plain": [
       "(2069, 1)"
      ]
     },
     "execution_count": 10,
     "metadata": {},
     "output_type": "execute_result"
    }
   ],
   "source": [
    "# Get the models predicted price values\n",
    "predictions = model.predict(x_test)\n",
    "\n",
    "#reshaping the prediction data\n",
    "predictions = predictions.reshape(-1,1)\n",
    "\n",
    "# transforming scaled data\n",
    "predictions = sc.inverse_transform(predictions)\n",
    "\n",
    "#convert predictions to an array\n",
    "predictions = np.array(predictions)\n",
    "predictions.shape"
   ]
  },
  {
   "cell_type": "code",
   "execution_count": 11,
   "metadata": {
    "colab": {
     "base_uri": "https://localhost:8080/"
    },
    "id": "geyFXW89viOd",
    "outputId": "5b754a63-cbde-4936-e7a7-a6f84ab4c68b"
   },
   "outputs": [
    {
     "name": "stdout",
     "output_type": "stream",
     "text": [
      "rmse :  8.149382115204954\n",
      "mse :  66.41242885962238\n",
      "mae :  6.61766608133588\n"
     ]
    }
   ],
   "source": [
    "#Get the root mean squared error (RMSE)\n",
    "rmse = np.sqrt(np.mean(((predictions - y_test) ** 2)))\n",
    "print('rmse : ', rmse)\n",
    "\n",
    "#Mean Square Error\n",
    "from sklearn.metrics import mean_squared_error\n",
    "\n",
    "# Calculation of Mean Squared Error (MSE)\n",
    "mse = mean_squared_error(y_test,predictions)\n",
    "print('mse : ' , mse)\n",
    "\n",
    "#mean absolute error\n",
    "mae = np.mean(np.abs(y_test - predictions))\n",
    "print('mae : ', mae )"
   ]
  },
  {
   "cell_type": "code",
   "execution_count": 12,
   "metadata": {
    "colab": {
     "base_uri": "https://localhost:8080/",
     "height": 713
    },
    "id": "sb-5XlqYRm5Y",
    "outputId": "608430a1-023b-461d-8aaf-4495f45adbf0"
   },
   "outputs": [
    {
     "name": "stderr",
     "output_type": "stream",
     "text": [
      "C:\\Users\\Thurlo\\AppData\\Local\\Temp\\ipykernel_16988\\891492763.py:4: SettingWithCopyWarning: \n",
      "A value is trying to be set on a copy of a slice from a DataFrame.\n",
      "Try using .loc[row_indexer,col_indexer] = value instead\n",
      "\n",
      "See the caveats in the documentation: https://pandas.pydata.org/pandas-docs/stable/user_guide/indexing.html#returning-a-view-versus-a-copy\n",
      "  valid['Predictions'] = predictions\n"
     ]
    },
    {
     "data": {
      "image/png": "[encoded data removed]",
      "text/plain": [
       "<Figure size 1152x432 with 1 Axes>"
      ]
     },
     "metadata": {
      "needs_background": "light"
     },
     "output_type": "display_data"
    }
   ],
   "source": [
    "# Plot the data\n",
    "train = close[:training_len]\n",
    "valid = close[training_len:]\n",
    "valid['Predictions'] = predictions\n",
    "\n",
    "# Visualize the data\n",
    "plt.figure(figsize=(16,6))\n",
    "plt.title('Model')\n",
    "plt.xlabel('Date', fontsize=18)\n",
    "plt.ylabel('Close Price USD ($)', fontsize=18)\n",
    "plt.plot(train['Close'])\n",
    "plt.plot(valid[['Close', 'Predictions']])\n",
    "plt.legend(['Train', 'Test', 'Predictions'], loc='lower right')\n",
    "plt.show()"
   ]
  },
  {
   "cell_type": "code",
   "execution_count": null,
   "metadata": {},
   "outputs": [],
   "source": []
  }
 ],
 "metadata": {
  "accelerator": "GPU",
  "colab": {
   "gpuType": "T4",
   "provenance": []
  },
  "kernelspec": {
   "display_name": "Python 3 (ipykernel)",
   "language": "python",
   "name": "python3"
  },
  "language_info": {
   "codemirror_mode": {
    "name": "ipython",
    "version": 3
   },
   "file_extension": ".py",
   "mimetype": "text/x-python",
   "name": "python",
   "nbconvert_exporter": "python",
   "pygments_lexer": "ipython3",
   "version": "3.9.12"
  }
 },
 "nbformat": 4,
 "nbformat_minor": 1
}
