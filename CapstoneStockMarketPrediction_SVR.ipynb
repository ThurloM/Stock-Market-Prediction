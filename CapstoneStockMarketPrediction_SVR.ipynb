{
 "cells": [
  {
   "cell_type": "markdown",
   "metadata": {
    "id": "bfo9HTtgAZq5"
   },
   "source": [
    "# **Load Important Libraries**"
   ]
  },
  {
   "cell_type": "code",
   "execution_count": 13,
   "metadata": {
    "id": "Fgp36wIUAV8o"
   },
   "outputs": [],
   "source": [
    "import numpy as np\n",
    "import pandas as pd\n",
    "import matplotlib.pyplot as plt\n",
    "\n",
    "\n",
    "# Data collection\n",
    "import yfinance as yf\n",
    "\n",
    "#Data Scaling\n",
    "from sklearn.preprocessing import MinMaxScaler\n"
   ]
  },
  {
   "cell_type": "markdown",
   "metadata": {
    "id": "RGRZXcTKAfCk"
   },
   "source": [
    "\n",
    "# **Load the data**"
   ]
  },
  {
   "cell_type": "code",
   "execution_count": 14,
   "metadata": {
    "colab": {
     "base_uri": "https://localhost:8080/",
     "height": 455
    },
    "id": "JRwflCxSAi0k",
    "outputId": "f77af3ab-f41d-4e9a-e958-664f11069f27"
   },
   "outputs": [
    {
     "data": {
      "text/html": [
       "<div>\n",
       "<style scoped>\n",
       "    .dataframe tbody tr th:only-of-type {\n",
       "        vertical-align: middle;\n",
       "    }\n",
       "\n",
       "    .dataframe tbody tr th {\n",
       "        vertical-align: top;\n",
       "    }\n",
       "\n",
       "    .dataframe thead th {\n",
       "        text-align: right;\n",
       "    }\n",
       "</style>\n",
       "<table border=\"1\" class=\"dataframe\">\n",
       "  <thead>\n",
       "    <tr style=\"text-align: right;\">\n",
       "      <th></th>\n",
       "      <th>Date</th>\n",
       "      <th>Open</th>\n",
       "      <th>High</th>\n",
       "      <th>Low</th>\n",
       "      <th>Close</th>\n",
       "      <th>Volume</th>\n",
       "    </tr>\n",
       "  </thead>\n",
       "  <tbody>\n",
       "    <tr>\n",
       "      <th>2000</th>\n",
       "      <td>2005-04-28 00:00:00-04:00</td>\n",
       "      <td>1.583000</td>\n",
       "      <td>1.646000</td>\n",
       "      <td>1.581500</td>\n",
       "      <td>1.626000</td>\n",
       "      <td>289456000</td>\n",
       "    </tr>\n",
       "    <tr>\n",
       "      <th>2001</th>\n",
       "      <td>2005-04-29 00:00:00-04:00</td>\n",
       "      <td>1.643000</td>\n",
       "      <td>1.644500</td>\n",
       "      <td>1.576000</td>\n",
       "      <td>1.618000</td>\n",
       "      <td>210470000</td>\n",
       "    </tr>\n",
       "    <tr>\n",
       "      <th>2002</th>\n",
       "      <td>2005-05-02 00:00:00-04:00</td>\n",
       "      <td>1.615000</td>\n",
       "      <td>1.664000</td>\n",
       "      <td>1.605000</td>\n",
       "      <td>1.655000</td>\n",
       "      <td>181960000</td>\n",
       "    </tr>\n",
       "    <tr>\n",
       "      <th>2003</th>\n",
       "      <td>2005-05-03 00:00:00-04:00</td>\n",
       "      <td>1.647000</td>\n",
       "      <td>1.678000</td>\n",
       "      <td>1.644500</td>\n",
       "      <td>1.660500</td>\n",
       "      <td>135558000</td>\n",
       "    </tr>\n",
       "    <tr>\n",
       "      <th>2004</th>\n",
       "      <td>2005-05-04 00:00:00-04:00</td>\n",
       "      <td>1.667500</td>\n",
       "      <td>1.706000</td>\n",
       "      <td>1.663500</td>\n",
       "      <td>1.698000</td>\n",
       "      <td>155132000</td>\n",
       "    </tr>\n",
       "    <tr>\n",
       "      <th>...</th>\n",
       "      <td>...</td>\n",
       "      <td>...</td>\n",
       "      <td>...</td>\n",
       "      <td>...</td>\n",
       "      <td>...</td>\n",
       "      <td>...</td>\n",
       "    </tr>\n",
       "    <tr>\n",
       "      <th>6893</th>\n",
       "      <td>2024-10-07 00:00:00-04:00</td>\n",
       "      <td>182.949997</td>\n",
       "      <td>183.600006</td>\n",
       "      <td>180.250000</td>\n",
       "      <td>180.800003</td>\n",
       "      <td>42364200</td>\n",
       "    </tr>\n",
       "    <tr>\n",
       "      <th>6894</th>\n",
       "      <td>2024-10-08 00:00:00-04:00</td>\n",
       "      <td>181.919998</td>\n",
       "      <td>183.089996</td>\n",
       "      <td>180.919998</td>\n",
       "      <td>182.720001</td>\n",
       "      <td>26372100</td>\n",
       "    </tr>\n",
       "    <tr>\n",
       "      <th>6895</th>\n",
       "      <td>2024-10-09 00:00:00-04:00</td>\n",
       "      <td>182.820007</td>\n",
       "      <td>185.850006</td>\n",
       "      <td>182.050003</td>\n",
       "      <td>185.169998</td>\n",
       "      <td>26343100</td>\n",
       "    </tr>\n",
       "    <tr>\n",
       "      <th>6896</th>\n",
       "      <td>2024-10-10 00:00:00-04:00</td>\n",
       "      <td>187.130005</td>\n",
       "      <td>188.130005</td>\n",
       "      <td>185.830002</td>\n",
       "      <td>186.649994</td>\n",
       "      <td>27785000</td>\n",
       "    </tr>\n",
       "    <tr>\n",
       "      <th>6897</th>\n",
       "      <td>2024-10-11 00:00:00-04:00</td>\n",
       "      <td>186.630005</td>\n",
       "      <td>189.929993</td>\n",
       "      <td>186.300003</td>\n",
       "      <td>188.820007</td>\n",
       "      <td>25658900</td>\n",
       "    </tr>\n",
       "  </tbody>\n",
       "</table>\n",
       "<p>4898 rows × 6 columns</p>\n",
       "</div>"
      ],
      "text/plain": [
       "                           Date        Open        High         Low  \\\n",
       "2000  2005-04-28 00:00:00-04:00    1.583000    1.646000    1.581500   \n",
       "2001  2005-04-29 00:00:00-04:00    1.643000    1.644500    1.576000   \n",
       "2002  2005-05-02 00:00:00-04:00    1.615000    1.664000    1.605000   \n",
       "2003  2005-05-03 00:00:00-04:00    1.647000    1.678000    1.644500   \n",
       "2004  2005-05-04 00:00:00-04:00    1.667500    1.706000    1.663500   \n",
       "...                         ...         ...         ...         ...   \n",
       "6893  2024-10-07 00:00:00-04:00  182.949997  183.600006  180.250000   \n",
       "6894  2024-10-08 00:00:00-04:00  181.919998  183.089996  180.919998   \n",
       "6895  2024-10-09 00:00:00-04:00  182.820007  185.850006  182.050003   \n",
       "6896  2024-10-10 00:00:00-04:00  187.130005  188.130005  185.830002   \n",
       "6897  2024-10-11 00:00:00-04:00  186.630005  189.929993  186.300003   \n",
       "\n",
       "           Close     Volume  \n",
       "2000    1.626000  289456000  \n",
       "2001    1.618000  210470000  \n",
       "2002    1.655000  181960000  \n",
       "2003    1.660500  135558000  \n",
       "2004    1.698000  155132000  \n",
       "...          ...        ...  \n",
       "6893  180.800003   42364200  \n",
       "6894  182.720001   26372100  \n",
       "6895  185.169998   26343100  \n",
       "6896  186.649994   27785000  \n",
       "6897  188.820007   25658900  \n",
       "\n",
       "[4898 rows x 6 columns]"
      ]
     },
     "execution_count": 14,
     "metadata": {},
     "output_type": "execute_result"
    }
   ],
   "source": [
    "#Load data (Amazon)\n",
    "\n",
    "df = pd.read_csv('amazon_stock_data.csv')\n",
    "df = df.iloc[2000: df.shape[0]]\n",
    "df"
   ]
  },
  {
   "cell_type": "markdown",
   "metadata": {},
   "source": [
    "# Splitting the Dataset"
   ]
  },
  {
   "cell_type": "code",
   "execution_count": 15,
   "metadata": {
    "colab": {
     "base_uri": "https://localhost:8080/"
    },
    "id": "cpJuVF3vWN2x",
    "outputId": "54f7df27-986a-47b4-c328-3aa65553e048"
   },
   "outputs": [
    {
     "data": {
      "text/plain": [
       "4409"
      ]
     },
     "execution_count": 15,
     "metadata": {},
     "output_type": "execute_result"
    }
   ],
   "source": [
    "# Create a new dataframe with only the 'Close column\n",
    "close = df.filter(['Close'])\n",
    "# Convert the dataframe to a numpy array\n",
    "dataset = close.values\n",
    "# Get the number of rows to train the model on\n",
    "training_len = int(np.ceil( len(dataset) * .9 ))\n",
    "\n",
    "training_len"
   ]
  },
  {
   "cell_type": "code",
   "execution_count": 16,
   "metadata": {
    "colab": {
     "base_uri": "https://localhost:8080/"
    },
    "id": "O4MIiM5iZ3JK",
    "outputId": "ce38a230-7971-4a48-86f5-b1688c0cacad"
   },
   "outputs": [
    {
     "data": {
      "text/plain": [
       "array([[0.00162308],\n",
       "       [0.00158282],\n",
       "       [0.00176903],\n",
       "       ...,\n",
       "       [0.92536355],\n",
       "       [0.93281207],\n",
       "       [0.94373332]])"
      ]
     },
     "execution_count": 16,
     "metadata": {},
     "output_type": "execute_result"
    }
   ],
   "source": [
    "# Using Min Max Scalar to scale the data\n",
    "sc = MinMaxScaler(feature_range=(0,1))\n",
    "\n",
    "\n",
    "#Scaling the close (closing price) data\n",
    "sc_close = sc.fit_transform(close)\n",
    "sc_close\n",
    "\n"
   ]
  },
  {
   "cell_type": "code",
   "execution_count": 17,
   "metadata": {
    "id": "uIR3_X7yfug0"
   },
   "outputs": [],
   "source": [
    "# Create the training data set\n",
    "# Create the scaled training data set\n",
    "train_data = sc_close[0:int(training_len), :]\n",
    "\n",
    "# creating empty sets\n",
    "x_train = []\n",
    "y_train = []\n",
    "\n",
    "# Split the data into x_train and y_train data sets\n",
    "for i in range(80, len(train_data)):\n",
    "    x_train.append(train_data[i-60:i, 0])\n",
    "    y_train.append(train_data[i, 0])\n",
    "    if i<= 11:\n",
    "        print(x_train)\n",
    "        print(y_train)\n"
   ]
  },
  {
   "cell_type": "code",
   "execution_count": 18,
   "metadata": {
    "colab": {
     "base_uri": "https://localhost:8080/"
    },
    "id": "Tgl9Ql34bXD9",
    "outputId": "db897992-d93f-4e28-db42-f161d226d273"
   },
   "outputs": [
    {
     "data": {
      "text/plain": [
       "array([[0.00236038, 0.00237297, 0.00237548, ..., 0.0045421 , 0.00444396,\n",
       "        0.00444145],\n",
       "       [0.00237297, 0.00237548, 0.00262461, ..., 0.00444396, 0.00444145,\n",
       "        0.00445403],\n",
       "       [0.00237548, 0.00262461, 0.00260196, ..., 0.00444145, 0.00445403,\n",
       "        0.00436595],\n",
       "       ...,\n",
       "       [0.6956162 , 0.71096626, 0.70205818, ..., 0.59646999, 0.60039557,\n",
       "        0.57553356],\n",
       "       [0.71096626, 0.70205818, 0.69506259, ..., 0.60039557, 0.57553356,\n",
       "        0.55187937],\n",
       "       [0.70205818, 0.69506259, 0.68711075, ..., 0.57553356, 0.55187937,\n",
       "        0.51388174]])"
      ]
     },
     "execution_count": 18,
     "metadata": {},
     "output_type": "execute_result"
    }
   ],
   "source": [
    "# Convert the x_train and y_train to numpy arrays\n",
    "x_train, y_train = np.array(x_train), np.array(y_train)\n",
    "x_train"
   ]
  },
  {
   "cell_type": "code",
   "execution_count": 19,
   "metadata": {
    "colab": {
     "base_uri": "https://localhost:8080/"
    },
    "id": "4xvkrVGe8dB3",
    "outputId": "1ca1fcfb-acc4-4985-9c8e-8617be6cfb59"
   },
   "outputs": [
    {
     "data": {
      "text/plain": [
       "(4329, 60)"
      ]
     },
     "execution_count": 19,
     "metadata": {},
     "output_type": "execute_result"
    }
   ],
   "source": [
    "# Reshape the data\n",
    "x_train = np.reshape(x_train, (x_train.shape[0], x_train.shape[1]))\n",
    "x_train.shape"
   ]
  },
  {
   "cell_type": "markdown",
   "metadata": {
    "id": "gEGpccaLe4cN"
   },
   "source": [
    "# Model  : Support Vector Machine\n"
   ]
  },
  {
   "cell_type": "code",
   "execution_count": 20,
   "metadata": {
    "colab": {
     "base_uri": "https://localhost:8080/",
     "height": 81
    },
    "id": "48UWlAaBelzu",
    "outputId": "de2cdcd3-48ce-4ba2-df82-b6d1c426930b"
   },
   "outputs": [
    {
     "data": {
      "text/plain": [
       "SVR()"
      ]
     },
     "execution_count": 20,
     "metadata": {},
     "output_type": "execute_result"
    }
   ],
   "source": [
    "# Support Vector Machine\n",
    "from sklearn.svm import SVR\n",
    "\n",
    "# Defining the model\n",
    "model  = SVR(kernel = 'rbf')\n",
    "\n",
    "# Fitting the model\n",
    "model.fit(x_train, y_train)"
   ]
  },
  {
   "cell_type": "code",
   "execution_count": 21,
   "metadata": {
    "colab": {
     "base_uri": "https://localhost:8080/"
    },
    "id": "-NCsAo_7e6zd",
    "outputId": "53f4f291-3025-4df6-ebe2-f02bc02aeb85"
   },
   "outputs": [
    {
     "data": {
      "text/plain": [
       "(489, 60)"
      ]
     },
     "execution_count": 21,
     "metadata": {},
     "output_type": "execute_result"
    }
   ],
   "source": [
    "# Create the testing data set\n",
    "test_data = sc_close[training_len - 60: , :]\n",
    "\n",
    "\n",
    "# Create the empty sets x_test and y_test\n",
    "x_test = []\n",
    "y_test = dataset[training_len:, :]\n",
    "\n",
    "# Populating\n",
    "for i in range(60, len(test_data)):\n",
    "    x_test.append(test_data[i-60:i, 0])\n",
    "\n",
    "# Convert the data to a numpy array\n",
    "x_test = np.array(x_test)\n",
    "\n",
    "# Reshape the data\n",
    "x_test = np.reshape(x_test, (x_test.shape[0], x_test.shape[1] ))\n",
    "x_test.shape"
   ]
  },
  {
   "cell_type": "code",
   "execution_count": 22,
   "metadata": {
    "colab": {
     "base_uri": "https://localhost:8080/"
    },
    "id": "h6ENKtYLfIOJ",
    "outputId": "2b478328-c307-4124-d0eb-8a166123ff2d"
   },
   "outputs": [
    {
     "data": {
      "text/plain": [
       "(489, 1)"
      ]
     },
     "execution_count": 22,
     "metadata": {},
     "output_type": "execute_result"
    }
   ],
   "source": [
    "# Get the models predicted price values\n",
    "predictions = model.predict(x_test)\n",
    "\n",
    "#reshaping the prediction data\n",
    "predictions = predictions.reshape(-1,1)\n",
    "\n",
    "# transforming scaled data\n",
    "predictions = sc.inverse_transform(predictions)\n",
    "\n",
    "#convert predictions to an array\n",
    "predictions = np.array(predictions)\n",
    "predictions.shape\n"
   ]
  },
  {
   "cell_type": "code",
   "execution_count": 23,
   "metadata": {
    "colab": {
     "base_uri": "https://localhost:8080/"
    },
    "id": "geyFXW89viOd",
    "outputId": "834e8fd4-c7df-4bd0-9691-cca388232b7b"
   },
   "outputs": [
    {
     "name": "stdout",
     "output_type": "stream",
     "text": [
      "rmse :  14.284775421539928\n",
      "mse :  204.0548088438312\n",
      "mae :  10.961382108648706\n"
     ]
    }
   ],
   "source": [
    "#Get the root mean squared error (RMSE)\n",
    "rmse = np.sqrt(np.mean(((predictions - y_test) ** 2)))\n",
    "print('rmse : ', rmse)\n",
    "\n",
    "#Mean Square Error\n",
    "from sklearn.metrics import mean_squared_error\n",
    "\n",
    "# Calculation of Mean Squared Error (MSE)\n",
    "mse = mean_squared_error(y_test,predictions)\n",
    "print('mse : ' , mse)\n",
    "\n",
    "#mean absolute error\n",
    "mae = np.mean(np.abs(y_test - predictions))\n",
    "print('mae : ', mae )\n"
   ]
  },
  {
   "cell_type": "code",
   "execution_count": 26,
   "metadata": {
    "colab": {
     "base_uri": "https://localhost:8080/",
     "height": 713
    },
    "id": "sb-5XlqYRm5Y",
    "outputId": "901f5cfb-b9ce-4688-f453-37b078b77890"
   },
   "outputs": [
    {
     "name": "stderr",
     "output_type": "stream",
     "text": [
      "C:\\Users\\Thurlo\\AppData\\Local\\Temp\\ipykernel_23480\\1507502235.py:4: SettingWithCopyWarning: \n",
      "A value is trying to be set on a copy of a slice from a DataFrame.\n",
      "Try using .loc[row_indexer,col_indexer] = value instead\n",
      "\n",
      "See the caveats in the documentation: https://pandas.pydata.org/pandas-docs/stable/user_guide/indexing.html#returning-a-view-versus-a-copy\n",
      "  valid['Predictions'] = predictions\n"
     ]
    },
    {
     "data": {
      "image/png": "[encoded data removed]",
      "text/plain": [
       "<Figure size 1152x432 with 1 Axes>"
      ]
     },
     "metadata": {
      "needs_background": "light"
     },
     "output_type": "display_data"
    }
   ],
   "source": [
    "# Plot the data\n",
    "train = close[:training_len]\n",
    "valid = close[training_len:]\n",
    "valid['Predictions'] = predictions\n",
    "# Visualize the data\n",
    "plt.figure(figsize=(16,6))\n",
    "plt.title('Model')\n",
    "plt.xlabel('Date', fontsize=18)\n",
    "plt.ylabel('Close Price USD ($)', fontsize=18)\n",
    "plt.plot(train['Close'])\n",
    "plt.plot(valid[['Close', 'Predictions']])\n",
    "plt.legend(['Train', 'Test', 'Predictions'], loc='lower right')\n",
    "plt.show()"
   ]
  },
  {
   "cell_type": "code",
   "execution_count": null,
   "metadata": {},
   "outputs": [],
   "source": []
  }
 ],
 "metadata": {
  "colab": {
   "provenance": []
  },
  "kernelspec": {
   "display_name": "Python 3 (ipykernel)",
   "language": "python",
   "name": "python3"
  },
  "language_info": {
   "codemirror_mode": {
    "name": "ipython",
    "version": 3
   },
   "file_extension": ".py",
   "mimetype": "text/x-python",
   "name": "python",
   "nbconvert_exporter": "python",
   "pygments_lexer": "ipython3",
   "version": "3.9.12"
  }
 },
 "nbformat": 4,
 "nbformat_minor": 1
}
